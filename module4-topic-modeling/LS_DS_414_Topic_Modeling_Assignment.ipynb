{
 "cells": [
  {
   "cell_type": "markdown",
   "metadata": {},
   "source": [
    "<img align=\"left\" src=\"https://lever-client-logos.s3.amazonaws.com/864372b1-534c-480e-acd5-9711f850815c-1524247202159.png\" width=200>\n",
    "<br></br>\n",
    "<br></br>\n",
    "\n",
    "# Topic Modeling\n",
    "## *Data Science Unit 4 Sprint 1 Assignment 4*\n",
    "\n",
    "Analyze a corpus of Amazon reviews from Unit 4 Sprint 1 Module 1's lecture using topic modeling: \n",
    "\n",
    "- Fit a Gensim LDA topic model on Amazon Reviews\n",
    "- Select appropriate number of topics\n",
    "- Create some dope visualization of the topics\n",
    "- Write a few bullets on your findings in markdown at the end\n",
    "- **Note**: You don't *have* to use generators for this assignment"
   ]
  },
  {
   "cell_type": "markdown",
   "metadata": {},
   "source": [
    "# Import and Dataset"
   ]
  },
  {
   "cell_type": "code",
   "execution_count": 42,
   "metadata": {},
   "outputs": [],
   "source": [
    "#Start Here\n",
    "from gensim.corpora import Dictionary\n",
    "from gensim.models.ldamulticore import LdaMulticore\n",
    "from gensim.models.coherencemodel import CoherenceModel\n",
    "\n",
    "import spacy\n",
    "\n",
    "import pandas as pd"
   ]
  },
  {
   "cell_type": "code",
   "execution_count": 43,
   "metadata": {},
   "outputs": [
    {
     "data": {
      "text/plain": [
       "'C:\\\\Users\\\\avery\\\\Lambda\\\\Unit4\\\\Sprint1\\\\DS-Unit-4-Sprint-1-NLP\\\\module4-topic-modeling'"
      ]
     },
     "execution_count": 43,
     "metadata": {},
     "output_type": "execute_result"
    }
   ],
   "source": [
    "# present working directory\n",
    "%pwd"
   ]
  },
  {
   "cell_type": "code",
   "execution_count": 44,
   "metadata": {},
   "outputs": [],
   "source": [
    "df = pd.read_csv('../module1-text-data/data/Datafiniti_Amazon_Consumer_Reviews_of_Amazon_Products_May19.csv')"
   ]
  },
  {
   "cell_type": "code",
   "execution_count": 45,
   "metadata": {},
   "outputs": [
    {
     "name": "stdout",
     "output_type": "stream",
     "text": [
      "(28332, 24)\n"
     ]
    },
    {
     "data": {
      "text/html": [
       "<div>\n",
       "<style scoped>\n",
       "    .dataframe tbody tr th:only-of-type {\n",
       "        vertical-align: middle;\n",
       "    }\n",
       "\n",
       "    .dataframe tbody tr th {\n",
       "        vertical-align: top;\n",
       "    }\n",
       "\n",
       "    .dataframe thead th {\n",
       "        text-align: right;\n",
       "    }\n",
       "</style>\n",
       "<table border=\"1\" class=\"dataframe\">\n",
       "  <thead>\n",
       "    <tr style=\"text-align: right;\">\n",
       "      <th></th>\n",
       "      <th>id</th>\n",
       "      <th>dateAdded</th>\n",
       "      <th>dateUpdated</th>\n",
       "      <th>name</th>\n",
       "      <th>asins</th>\n",
       "      <th>brand</th>\n",
       "      <th>categories</th>\n",
       "      <th>primaryCategories</th>\n",
       "      <th>imageURLs</th>\n",
       "      <th>keys</th>\n",
       "      <th>...</th>\n",
       "      <th>reviews.didPurchase</th>\n",
       "      <th>reviews.doRecommend</th>\n",
       "      <th>reviews.id</th>\n",
       "      <th>reviews.numHelpful</th>\n",
       "      <th>reviews.rating</th>\n",
       "      <th>reviews.sourceURLs</th>\n",
       "      <th>reviews.text</th>\n",
       "      <th>reviews.title</th>\n",
       "      <th>reviews.username</th>\n",
       "      <th>sourceURLs</th>\n",
       "    </tr>\n",
       "  </thead>\n",
       "  <tbody>\n",
       "    <tr>\n",
       "      <th>0</th>\n",
       "      <td>AVpgNzjwLJeJML43Kpxn</td>\n",
       "      <td>2015-10-30T08:59:32Z</td>\n",
       "      <td>2019-04-25T09:08:16Z</td>\n",
       "      <td>AmazonBasics AAA Performance Alkaline Batterie...</td>\n",
       "      <td>B00QWO9P0O,B00LH3DMUO</td>\n",
       "      <td>Amazonbasics</td>\n",
       "      <td>AA,AAA,Health,Electronics,Health &amp; Household,C...</td>\n",
       "      <td>Health &amp; Beauty</td>\n",
       "      <td>https://images-na.ssl-images-amazon.com/images...</td>\n",
       "      <td>amazonbasics/hl002619,amazonbasicsaaaperforman...</td>\n",
       "      <td>...</td>\n",
       "      <td>NaN</td>\n",
       "      <td>NaN</td>\n",
       "      <td>NaN</td>\n",
       "      <td>NaN</td>\n",
       "      <td>3</td>\n",
       "      <td>https://www.amazon.com/product-reviews/B00QWO9...</td>\n",
       "      <td>I order 3 of them and one of the item is bad q...</td>\n",
       "      <td>... 3 of them and one of the item is bad quali...</td>\n",
       "      <td>Byger yang</td>\n",
       "      <td>https://www.barcodable.com/upc/841710106442,ht...</td>\n",
       "    </tr>\n",
       "    <tr>\n",
       "      <th>1</th>\n",
       "      <td>AVpgNzjwLJeJML43Kpxn</td>\n",
       "      <td>2015-10-30T08:59:32Z</td>\n",
       "      <td>2019-04-25T09:08:16Z</td>\n",
       "      <td>AmazonBasics AAA Performance Alkaline Batterie...</td>\n",
       "      <td>B00QWO9P0O,B00LH3DMUO</td>\n",
       "      <td>Amazonbasics</td>\n",
       "      <td>AA,AAA,Health,Electronics,Health &amp; Household,C...</td>\n",
       "      <td>Health &amp; Beauty</td>\n",
       "      <td>https://images-na.ssl-images-amazon.com/images...</td>\n",
       "      <td>amazonbasics/hl002619,amazonbasicsaaaperforman...</td>\n",
       "      <td>...</td>\n",
       "      <td>NaN</td>\n",
       "      <td>NaN</td>\n",
       "      <td>NaN</td>\n",
       "      <td>NaN</td>\n",
       "      <td>4</td>\n",
       "      <td>https://www.amazon.com/product-reviews/B00QWO9...</td>\n",
       "      <td>Bulk is always the less expensive way to go fo...</td>\n",
       "      <td>... always the less expensive way to go for pr...</td>\n",
       "      <td>ByMG</td>\n",
       "      <td>https://www.barcodable.com/upc/841710106442,ht...</td>\n",
       "    </tr>\n",
       "  </tbody>\n",
       "</table>\n",
       "<p>2 rows × 24 columns</p>\n",
       "</div>"
      ],
      "text/plain": [
       "                     id             dateAdded           dateUpdated  \\\n",
       "0  AVpgNzjwLJeJML43Kpxn  2015-10-30T08:59:32Z  2019-04-25T09:08:16Z   \n",
       "1  AVpgNzjwLJeJML43Kpxn  2015-10-30T08:59:32Z  2019-04-25T09:08:16Z   \n",
       "\n",
       "                                                name                  asins  \\\n",
       "0  AmazonBasics AAA Performance Alkaline Batterie...  B00QWO9P0O,B00LH3DMUO   \n",
       "1  AmazonBasics AAA Performance Alkaline Batterie...  B00QWO9P0O,B00LH3DMUO   \n",
       "\n",
       "          brand                                         categories  \\\n",
       "0  Amazonbasics  AA,AAA,Health,Electronics,Health & Household,C...   \n",
       "1  Amazonbasics  AA,AAA,Health,Electronics,Health & Household,C...   \n",
       "\n",
       "  primaryCategories                                          imageURLs  \\\n",
       "0   Health & Beauty  https://images-na.ssl-images-amazon.com/images...   \n",
       "1   Health & Beauty  https://images-na.ssl-images-amazon.com/images...   \n",
       "\n",
       "                                                keys  ... reviews.didPurchase  \\\n",
       "0  amazonbasics/hl002619,amazonbasicsaaaperforman...  ...                 NaN   \n",
       "1  amazonbasics/hl002619,amazonbasicsaaaperforman...  ...                 NaN   \n",
       "\n",
       "  reviews.doRecommend reviews.id reviews.numHelpful reviews.rating  \\\n",
       "0                 NaN        NaN                NaN              3   \n",
       "1                 NaN        NaN                NaN              4   \n",
       "\n",
       "                                  reviews.sourceURLs  \\\n",
       "0  https://www.amazon.com/product-reviews/B00QWO9...   \n",
       "1  https://www.amazon.com/product-reviews/B00QWO9...   \n",
       "\n",
       "                                        reviews.text  \\\n",
       "0  I order 3 of them and one of the item is bad q...   \n",
       "1  Bulk is always the less expensive way to go fo...   \n",
       "\n",
       "                                       reviews.title  reviews.username  \\\n",
       "0  ... 3 of them and one of the item is bad quali...        Byger yang   \n",
       "1  ... always the less expensive way to go for pr...              ByMG   \n",
       "\n",
       "                                          sourceURLs  \n",
       "0  https://www.barcodable.com/upc/841710106442,ht...  \n",
       "1  https://www.barcodable.com/upc/841710106442,ht...  \n",
       "\n",
       "[2 rows x 24 columns]"
      ]
     },
     "execution_count": 45,
     "metadata": {},
     "output_type": "execute_result"
    }
   ],
   "source": [
    "print(df.shape)\n",
    "df.head(2)"
   ]
  },
  {
   "cell_type": "code",
   "execution_count": 46,
   "metadata": {},
   "outputs": [
    {
     "data": {
      "text/plain": [
       "Electronics                    13995\n",
       "Health & Beauty                12071\n",
       "Toys & Games,Electronics        1676\n",
       "Office Supplies,Electronics      386\n",
       "Electronics,Media                185\n",
       "Office Supplies                    9\n",
       "Animals & Pet Supplies             6\n",
       "Electronics,Furniture              2\n",
       "Home & Garden                      2\n",
       "Name: primaryCategories, dtype: int64"
      ]
     },
     "execution_count": 46,
     "metadata": {},
     "output_type": "execute_result"
    }
   ],
   "source": [
    "# View Categories\n",
    "df['primaryCategories'].value_counts()"
   ]
  },
  {
   "cell_type": "code",
   "execution_count": 47,
   "metadata": {},
   "outputs": [
    {
     "name": "stdout",
     "output_type": "stream",
     "text": [
      "(12071, 24)\n"
     ]
    },
    {
     "data": {
      "text/html": [
       "<div>\n",
       "<style scoped>\n",
       "    .dataframe tbody tr th:only-of-type {\n",
       "        vertical-align: middle;\n",
       "    }\n",
       "\n",
       "    .dataframe tbody tr th {\n",
       "        vertical-align: top;\n",
       "    }\n",
       "\n",
       "    .dataframe thead th {\n",
       "        text-align: right;\n",
       "    }\n",
       "</style>\n",
       "<table border=\"1\" class=\"dataframe\">\n",
       "  <thead>\n",
       "    <tr style=\"text-align: right;\">\n",
       "      <th></th>\n",
       "      <th>id</th>\n",
       "      <th>dateAdded</th>\n",
       "      <th>dateUpdated</th>\n",
       "      <th>name</th>\n",
       "      <th>asins</th>\n",
       "      <th>brand</th>\n",
       "      <th>categories</th>\n",
       "      <th>primaryCategories</th>\n",
       "      <th>imageURLs</th>\n",
       "      <th>keys</th>\n",
       "      <th>...</th>\n",
       "      <th>reviews.didPurchase</th>\n",
       "      <th>reviews.doRecommend</th>\n",
       "      <th>reviews.id</th>\n",
       "      <th>reviews.numHelpful</th>\n",
       "      <th>reviews.rating</th>\n",
       "      <th>reviews.sourceURLs</th>\n",
       "      <th>reviews.text</th>\n",
       "      <th>reviews.title</th>\n",
       "      <th>reviews.username</th>\n",
       "      <th>sourceURLs</th>\n",
       "    </tr>\n",
       "  </thead>\n",
       "  <tbody>\n",
       "    <tr>\n",
       "      <th>0</th>\n",
       "      <td>AVpgNzjwLJeJML43Kpxn</td>\n",
       "      <td>2015-10-30T08:59:32Z</td>\n",
       "      <td>2019-04-25T09:08:16Z</td>\n",
       "      <td>AmazonBasics AAA Performance Alkaline Batterie...</td>\n",
       "      <td>B00QWO9P0O,B00LH3DMUO</td>\n",
       "      <td>Amazonbasics</td>\n",
       "      <td>AA,AAA,Health,Electronics,Health &amp; Household,C...</td>\n",
       "      <td>Health &amp; Beauty</td>\n",
       "      <td>https://images-na.ssl-images-amazon.com/images...</td>\n",
       "      <td>amazonbasics/hl002619,amazonbasicsaaaperforman...</td>\n",
       "      <td>...</td>\n",
       "      <td>NaN</td>\n",
       "      <td>NaN</td>\n",
       "      <td>NaN</td>\n",
       "      <td>NaN</td>\n",
       "      <td>3</td>\n",
       "      <td>https://www.amazon.com/product-reviews/B00QWO9...</td>\n",
       "      <td>I order 3 of them and one of the item is bad q...</td>\n",
       "      <td>... 3 of them and one of the item is bad quali...</td>\n",
       "      <td>Byger yang</td>\n",
       "      <td>https://www.barcodable.com/upc/841710106442,ht...</td>\n",
       "    </tr>\n",
       "  </tbody>\n",
       "</table>\n",
       "<p>1 rows × 24 columns</p>\n",
       "</div>"
      ],
      "text/plain": [
       "                     id             dateAdded           dateUpdated  \\\n",
       "0  AVpgNzjwLJeJML43Kpxn  2015-10-30T08:59:32Z  2019-04-25T09:08:16Z   \n",
       "\n",
       "                                                name                  asins  \\\n",
       "0  AmazonBasics AAA Performance Alkaline Batterie...  B00QWO9P0O,B00LH3DMUO   \n",
       "\n",
       "          brand                                         categories  \\\n",
       "0  Amazonbasics  AA,AAA,Health,Electronics,Health & Household,C...   \n",
       "\n",
       "  primaryCategories                                          imageURLs  \\\n",
       "0   Health & Beauty  https://images-na.ssl-images-amazon.com/images...   \n",
       "\n",
       "                                                keys  ... reviews.didPurchase  \\\n",
       "0  amazonbasics/hl002619,amazonbasicsaaaperforman...  ...                 NaN   \n",
       "\n",
       "  reviews.doRecommend reviews.id reviews.numHelpful reviews.rating  \\\n",
       "0                 NaN        NaN                NaN              3   \n",
       "\n",
       "                                  reviews.sourceURLs  \\\n",
       "0  https://www.amazon.com/product-reviews/B00QWO9...   \n",
       "\n",
       "                                        reviews.text  \\\n",
       "0  I order 3 of them and one of the item is bad q...   \n",
       "\n",
       "                                       reviews.title  reviews.username  \\\n",
       "0  ... 3 of them and one of the item is bad quali...        Byger yang   \n",
       "\n",
       "                                          sourceURLs  \n",
       "0  https://www.barcodable.com/upc/841710106442,ht...  \n",
       "\n",
       "[1 rows x 24 columns]"
      ]
     },
     "execution_count": 47,
     "metadata": {},
     "output_type": "execute_result"
    }
   ],
   "source": [
    "# Selecting Health & Beauty to look at reviews\n",
    "df = df[df['primaryCategories'] == 'Health & Beauty'].copy()\n",
    "print(df.shape)\n",
    "df.head(1)"
   ]
  },
  {
   "cell_type": "markdown",
   "metadata": {},
   "source": [
    "# Use Spacy to Tokenize "
   ]
  },
  {
   "cell_type": "code",
   "execution_count": 48,
   "metadata": {},
   "outputs": [],
   "source": [
    "from spacy.tokenizer import Tokenizer\n",
    "nlp = spacy.load(\"en_core_web_lg\")\n",
    "tokenizer = Tokenizer(nlp.vocab)"
   ]
  },
  {
   "cell_type": "code",
   "execution_count": 49,
   "metadata": {},
   "outputs": [],
   "source": [
    "# for doc in tokenizer.pipe(df['reviews.text'], batch_size=500):\n",
    "    \n",
    "#     for token in doc:\n",
    "#         print(token.text, token.lemma_, token.is_stop)\n"
   ]
  },
  {
   "cell_type": "code",
   "execution_count": 50,
   "metadata": {},
   "outputs": [],
   "source": [
    "STOP_WORDS = nlp.Defaults.stop_words.union([\"amazon\",\"battery\",\"duracell\",\"batteries.\",\"batteries,\",\"batteries\",\"price.\"])"
   ]
  },
  {
   "cell_type": "code",
   "execution_count": 51,
   "metadata": {},
   "outputs": [],
   "source": [
    "tokens = []\n",
    "\n",
    "for doc in tokenizer.pipe(df['reviews.text'], batch_size=500):\n",
    "    \n",
    "    doc_tokens = []\n",
    "    \n",
    "    for token in doc:\n",
    "        if (token.text.lower() not in STOP_WORDS) and (token.is_punct == False):\n",
    "            doc_tokens.append(token.lemma_.lower())\n",
    "            \n",
    "    tokens.append(doc_tokens)\n",
    "        \n",
    "df['tokens'] = tokens"
   ]
  },
  {
   "cell_type": "code",
   "execution_count": 52,
   "metadata": {},
   "outputs": [
    {
     "data": {
      "text/plain": [
       "0    [order, 3, item, bad, quality., miss, backup, ...\n",
       "1                [bulk, expensive, way, product, like]\n",
       "2                                      [price, happy.]\n",
       "3                           [work, brand, well, price]\n",
       "4                          [long, last, price, great.]\n",
       "Name: tokens, dtype: object"
      ]
     },
     "execution_count": 52,
     "metadata": {},
     "output_type": "execute_result"
    }
   ],
   "source": [
    "df['tokens'].head()"
   ]
  },
  {
   "cell_type": "code",
   "execution_count": 53,
   "metadata": {},
   "outputs": [
    {
     "data": {
      "text/plain": [
       "11"
      ]
     },
     "execution_count": 53,
     "metadata": {},
     "output_type": "execute_result"
    }
   ],
   "source": [
    "len(df['tokens'][0])"
   ]
  },
  {
   "cell_type": "markdown",
   "metadata": {},
   "source": [
    "# Create id2word"
   ]
  },
  {
   "cell_type": "code",
   "execution_count": 54,
   "metadata": {},
   "outputs": [
    {
     "name": "stdout",
     "output_type": "stream",
     "text": [
      "9803\n"
     ]
    }
   ],
   "source": [
    "# Gensim dictionary\n",
    "id2word = Dictionary(df['tokens'])\n",
    "print(len(id2word))"
   ]
  },
  {
   "cell_type": "code",
   "execution_count": 55,
   "metadata": {},
   "outputs": [
    {
     "name": "stdout",
     "output_type": "stream",
     "text": [
      "day\n",
      "savings!\n",
      "thanks..\n"
     ]
    }
   ],
   "source": [
    "print(id2word[106])\n",
    "print(id2word[5000])\n",
    "print(id2word[204])"
   ]
  },
  {
   "cell_type": "code",
   "execution_count": 56,
   "metadata": {},
   "outputs": [],
   "source": [
    "# Remove extreme values from the dataset\n",
    "#id2word.filter_extremes(no_below=5, no_above=0.95)"
   ]
  },
  {
   "cell_type": "code",
   "execution_count": 57,
   "metadata": {},
   "outputs": [
    {
     "name": "stdout",
     "output_type": "stream",
     "text": [
      "9803\n"
     ]
    }
   ],
   "source": [
    "print(len(id2word))"
   ]
  },
  {
   "cell_type": "markdown",
   "metadata": {},
   "source": [
    "# Create Corpus Object"
   ]
  },
  {
   "cell_type": "code",
   "execution_count": 58,
   "metadata": {},
   "outputs": [],
   "source": [
    "# doc to bag of words\n",
    "corpus = [id2word.doc2bow(token) for token in df['tokens']]"
   ]
  },
  {
   "cell_type": "code",
   "execution_count": 59,
   "metadata": {},
   "outputs": [
    {
     "data": {
      "text/plain": [
       "12071"
      ]
     },
     "execution_count": 59,
     "metadata": {},
     "output_type": "execute_result"
    }
   ],
   "source": [
    "len(corpus) "
   ]
  },
  {
   "cell_type": "code",
   "execution_count": 60,
   "metadata": {},
   "outputs": [
    {
     "data": {
      "text/plain": [
       "11"
      ]
     },
     "execution_count": 60,
     "metadata": {},
     "output_type": "execute_result"
    }
   ],
   "source": [
    "len(corpus[0])"
   ]
  },
  {
   "cell_type": "code",
   "execution_count": 61,
   "metadata": {},
   "outputs": [
    {
     "data": {
      "text/plain": [
       "[(0, 1),\n",
       " (1, 1),\n",
       " (2, 1),\n",
       " (3, 1),\n",
       " (4, 1),\n",
       " (5, 1),\n",
       " (6, 1),\n",
       " (7, 1),\n",
       " (8, 1),\n",
       " (9, 1),\n",
       " (10, 1)]"
      ]
     },
     "execution_count": 61,
     "metadata": {},
     "output_type": "execute_result"
    }
   ],
   "source": [
    "corpus[0]"
   ]
  },
  {
   "cell_type": "code",
   "execution_count": 62,
   "metadata": {},
   "outputs": [],
   "source": [
    "# LDA MODEL\n",
    "lda_model = LdaMulticore(\n",
    "    corpus=corpus, \n",
    "    num_topics=5, \n",
    "    id2word=id2word, \n",
    "    workers=4, \n",
    "    passes=5)"
   ]
  },
  {
   "cell_type": "code",
   "execution_count": 63,
   "metadata": {},
   "outputs": [
    {
     "data": {
      "text/plain": [
       "[(0,\n",
       "  '0.019*\"buy\" + 0.015*\"good\" + 0.010*\"product\" + 0.009*\"use\" + 0.008*\"need\" + 0.007*\"come\" + 0.007*\"work\" + 0.007*\"don\\'t\" + 0.006*\"box\" + 0.006*\"i\\'m\"'),\n",
       " (1,\n",
       "  '0.058*\"great\" + 0.022*\"work\" + 0.020*\"value\" + 0.019*\"good\" + 0.013*\"price\" + 0.011*\"price!\" + 0.011*\"aa\" + 0.009*\"long\" + 0.008*\"deal\" + 0.008*\"fast\"'),\n",
       " (2,\n",
       "  '0.056*\"great\" + 0.047*\"long\" + 0.027*\"price\" + 0.019*\"buy\" + 0.016*\"good\" + 0.012*\"brand\" + 0.011*\"last\" + 0.010*\"use\" + 0.010*\"time\" + 0.009*\"like\"'),\n",
       " (3,\n",
       "  '0.054*\"good\" + 0.048*\"work\" + 0.027*\"brand\" + 0.018*\"price\" + 0.015*\"long\" + 0.014*\"buy\" + 0.013*\"great\" + 0.012*\"like\" + 0.010*\"love\" + 0.010*\"well\"'),\n",
       " (4,\n",
       "  '0.019*\"buy\" + 0.014*\"great\" + 0.012*\"quality\" + 0.012*\"good\" + 0.008*\"life\" + 0.007*\"i\\'m\" + 0.007*\"need\" + 0.007*\"work\" + 0.006*\"use\" + 0.006*\"time\"')]"
      ]
     },
     "execution_count": 63,
     "metadata": {},
     "output_type": "execute_result"
    }
   ],
   "source": [
    "lda_model.print_topics()"
   ]
  },
  {
   "cell_type": "code",
   "execution_count": 64,
   "metadata": {},
   "outputs": [
    {
     "name": "stdout",
     "output_type": "stream",
     "text": [
      "------ Topic 0 ------\n",
      "buy good product use need\n",
      "\n",
      "------ Topic 1 ------\n",
      "great work value good price\n",
      "\n",
      "------ Topic 2 ------\n",
      "great long price buy good\n",
      "\n",
      "------ Topic 3 ------\n",
      "good work brand price long\n",
      "\n",
      "------ Topic 4 ------\n",
      "buy great quality good life\n",
      "\n"
     ]
    }
   ],
   "source": [
    "# pretty print\n",
    "import re\n",
    "words = [re.findall(r'\"([^\"]*)\"',t[1]) for t in lda_model.print_topics()]\n",
    "topics = [' '.join(t[0:5]) for t in words]\n",
    "\n",
    "for id, t in enumerate(topics): \n",
    "    print(f\"------ Topic {id} ------\")\n",
    "    print(t, end=\"\\n\\n\")"
   ]
  },
  {
   "cell_type": "markdown",
   "metadata": {},
   "source": [
    "# Topic Distance Visualization"
   ]
  },
  {
   "cell_type": "code",
   "execution_count": 65,
   "metadata": {},
   "outputs": [],
   "source": [
    "distro = [lda_model[d] for d in corpus]\n",
    "num_topics = 4\n",
    "\n",
    "def update(doc):\n",
    "        d_dist = {k:0 for k in range(0,num_topics)}\n",
    "        for topic in doc:\n",
    "            # Topic is Tuple where the first part is the topic id\n",
    "            # the second part is the topic distribution in that doc\n",
    "            d_dist[topic[0]] = topic[1]\n",
    "        return d_dist\n",
    "    \n",
    "new_distro = [update(d) for d in distro]"
   ]
  },
  {
   "cell_type": "code",
   "execution_count": 66,
   "metadata": {},
   "outputs": [
    {
     "data": {
      "text/html": [
       "\n",
       "<link rel=\"stylesheet\" type=\"text/css\" href=\"https://cdn.rawgit.com/bmabey/pyLDAvis/files/ldavis.v1.0.0.css\">\n",
       "\n",
       "\n",
       "<div id=\"ldavis_el547227892708103205793698173\"></div>\n",
       "<script type=\"text/javascript\">\n",
       "\n",
       "var ldavis_el547227892708103205793698173_data = {\"mdsDat\": {\"x\": [0.019549263165175502, 0.038820153677529716, -0.08568814789784945, 0.09771116462115097, -0.07039243356600675], \"y\": [-0.0576706133855873, -0.057405166768526084, -0.029555084393058158, 0.06546137973313243, 0.07916948481403908], \"topics\": [1, 2, 3, 4, 5], \"cluster\": [1, 1, 1, 1, 1], \"Freq\": [26.398584365844727, 26.35333251953125, 17.820724487304688, 15.964129447937012, 13.463226318359375]}, \"tinfo\": {\"Term\": [\"great\", \"work\", \"long\", \"value\", \"good\", \"price!\", \"quality\", \"fast\", \"price\", \"brand\", \"aa\", \"hold\", \"buy\", \"life\", \"product\", \"thank\", \"deal\", \"beat\", \"value.\", \"i'm\", \"last\", \"test\", \"amazonbasics\", \"need\", \"excellent\", \"time\", \"well.\", \"great.\", \"okay\", \"great!\", \"buck.\", \"halloween\", \"home,\", \"recycling.\", \"choice\", \"rip\", \"great!!\", \"fancy\", \"hey\", \"for...\", \"makes\", \"should,\", \"dish\", \"goes.\", \"container.\", \"priced,\", \"again!!\", \"cheap!\", \"duracel.\", \"tv.\", \"charm\", \"collection\", \"applications.\", \"perfectly!\", \"kodak\", \"pleased!\", \"don't.\", \"lesser\", \"process.\", \"cheap-o\", \"cheaper.\", \"well.\", \"long!\", \"tend\", \"work\", \"fraction\", \"fine\", \"product.\", \"name.\", \"expensive.\", \"good\", \"cost.\", \"brand\", \"great.\", \"describe\", \"fine.\", \"love\", \"they're\", \"far\", \"recommend\", \"easy\", \"well\", \"expected.\", \"brands.\", \"pay\", \"like\", \"cheap.\", \"one\", \"cheap\", \"price\", \"store\", \"don't\", \"buy\", \"highly\", \"purchase\", \"i've\", \"long\", \"quality\", \"package\", \"remote\", \"use\", \"great\", \"big\", \"think\", \"aa\", \"box\", \"deal!\", \"lasting,\", \"expected!\", \"okay\", \"duds.\", \"value!!!\", \"twin\", \"energenizer\", \"subscription.\", \"toddlers.\", \"sanity.\", \"ok.\", \"bose\", \"lasting!\", \"toys!\", \"suit\", \"crazy\", \"quick.\", \"4th\", \"gig\", \"3/4\", \"3x\", \"hunt\", \"8.5\", \"doa,\", \"theses\", \"said.\", \"truck\", \"99cent\", \"(as\", \"lasts\", \"value.\", \"long\", \"came\", \"excellent\", \"last\", \"great\", \"time.\", \"price\", \"value,\", \"controller\", \"christmas\", \"lot\", \"time\", \"can't\", \"beat\", \"xbox\", \"pack\", \"save\", \"time!\", \"buy\", \"handy\", \"product\", \"use\", \"toy\", \"like\", \"don't\", \"brand\", \"pretty\", \"cheap\", \"good\", \"price,\", \"order\", \"purchase\", \"brands.\", \"aaa\", \"think\", \"get\", \"again.\", \"i've\", \"need\", \"work\", \"batterys\", \"lot,\", \"prepare\", \"everready\", \"around!\", \"expensive!\", \"mess\", \"walk\", \"ok\", \"worked\", \"satisfied\", \"long-lasting.\", \"excellent,\", \"received\", \"acid\", \"prompt\", \"relatively\", \"shortest\", \"disappointing.\", \"work!\", \"pacific\", \"bank.\", \"puddle\", \"brands\", \"chocolate\", \"later)\", \"liquid\", \"string\", \"notch\", \"channel\", \"pro\", \"amazing.\", \"sense\", \"free.\", \"happen\", \"closet\", \"meet\", \"throw\", \"working.\", \"box.\", \"excellent.\", \"away\", \"leak\", \"perfect!\", \"experience.\", \"terrible\", \"cell\", \"product\", \"mouse\", \"open\", \"box\", \"nice\", \"works\", \"4\", \"buy\", \"come\", \"again.\", \"didn't\", \"need\", \"wrap\", \"i'm\", \"reason\", \"use\", \"i'd\", \"good\", \"get\", \"new\", \"don't\", \"deal\", \"find\", \"time\", \"day\", \"remote\", \"package\", \"lot\", \"like\", \"work\", \"brand\", \"run\", \"price\", \"long\", \"great\", \"order\", \"coppertops\", \"excellent!\", \"brush\", \"nest\", \"fresh,\", \"flashes,\", \"packaged,\", \"terrific\", \"me...\", \"fresh.\", \"regularly.\", \"kid's\", \"interesting:\", \"so...\", \"(energizers\", \"say!\", \"dead,\", \"essentially\", \"adequate.\", \"joy.\", \"shipping!\", \"delivered\", \"nice!\", \"a+\", \"expire\", \"drains\", \"bulb\", \"rayovacs,\", \"unbelievable\", \"cell,\", \"weather\", \"shipping.\", \"value\", \"value!\", \"devices,\", \"price!\", \"charge.\", \"fast\", \"hold\", \"product!\", \"thank\", \"great!\", \"you.\", \"aa\", \"great\", \"performance\", \"energy\", \"deal\", \"juice\", \"amazonbasics\", \"work.\", \"fantastic\", \"advertised.\", \"deal.\", \"costco\", \"work\", \"beat\", \"device\", \"price,\", \"ship\", \"test\", \"good.\", \"arrive\", \"aaa\", \"year\", \"good\", \"price\", \"cost\", \"need\", \"well\", \"power\", \"long\", \"purchase\", \"can't\", \"it's\", \"brand\", \"buy\", \"use\", \"package\", \"time\", \"love\", \"ma\", \"acdelco\", \"mah\", \"flash.\", \"yay\", \"screw\", \"display\", \"toys\", \"seller.\", \"addition\", \"purposes.\", \"circle\", \"rt\", \"mirror.\", \"music\", \"u\", \"depot\", \"anything.\", \"again..\", \"(2\", \"good!\", \"news\", \"adv\", \"runtime\", \"note,\", \"power!\", \"click\", \"gripe\", \"sign.\", \"suitable\", \"capacity\", \"go-to\", \"perfect.\", \"fit\", \"amazing\", \"scale\", \"link\", \"buy!\", \"anymore\", \"decent\", \"life\", \"quality\", \"help\", \"expect\", \"trail\", \"gift\", \"brand.\", \"thanks\", \"test\", \"i'm\", \"discharge\", \"these!\", \"buy\", \"go\", \"2\", \"reasonable\", \"short\", \"happy\", \"sure\", \"wrong\", \"need\", \"come\", \"light\", \"week\", \"long.\", \"great\", \"time\", \"good\", \"high\", \"i've\", \"store\", \"cheap\", \"use\", \"package\", \"purchase\", \"well\", \"work\", \"compare\", \"don't\", \"brand\", \"it's\", \"like\", \"price\", \"love\"], \"Freq\": [3052.0, 1942.0, 1885.0, 408.0, 2618.0, 243.0, 484.0, 185.0, 1534.0, 1308.0, 402.0, 160.0, 1579.0, 286.0, 507.0, 114.0, 335.0, 212.0, 180.0, 356.0, 487.0, 177.0, 250.0, 491.0, 235.0, 549.0, 210.0, 216.0, 84.0, 122.0, 13.668387413024902, 8.626887321472168, 6.641626834869385, 6.614013671875, 10.124234199523926, 6.148836135864258, 6.512477397918701, 15.726677894592285, 5.576990127563477, 5.470252513885498, 5.608251571655273, 5.376056671142578, 5.063575267791748, 4.458970546722412, 4.944669246673584, 4.45773983001709, 4.525083065032959, 13.212379455566406, 5.390422344207764, 5.381638050079346, 4.015810966491699, 4.418603420257568, 8.094176292419434, 3.9306740760803223, 3.926206588745117, 5.329116344451904, 4.062114238739014, 5.749434947967529, 3.9015953540802, 4.374558448791504, 46.56077575683594, 159.8944091796875, 14.316267013549805, 12.197349548339844, 1264.584716796875, 60.780242919921875, 120.29426574707031, 97.0086669921875, 21.030864715576172, 14.45376968383789, 1440.7091064453125, 45.131431579589844, 717.8284912109375, 137.65615844726562, 44.65188980102539, 89.39842987060547, 275.2802734375, 149.60009765625, 223.62242126464844, 108.83489227294922, 84.58670806884766, 257.75506591796875, 60.361183166503906, 161.75746154785156, 95.79149627685547, 305.5505065917969, 36.39673614501953, 93.14910888671875, 193.3150634765625, 465.0268249511719, 121.79837799072266, 211.1810760498047, 383.5872497558594, 50.20994186401367, 161.27256774902344, 138.41891479492188, 394.5103454589844, 151.7707061767578, 127.28368377685547, 121.61873626708984, 176.3876495361328, 338.9442443847656, 98.19200134277344, 99.56464385986328, 103.05201721191406, 99.49404907226562, 54.53021240234375, 24.23720932006836, 13.105424880981445, 78.51477813720703, 11.894615173339844, 7.776913642883301, 7.219507217407227, 6.699120044708252, 6.698124885559082, 7.203774929046631, 6.695103645324707, 29.423381805419922, 7.186220645904541, 7.146799087524414, 7.644726276397705, 7.642141342163086, 18.907209396362305, 6.705621719360352, 6.111100196838379, 6.6003031730651855, 5.624968528747559, 5.61405611038208, 6.04120397567749, 4.988308429718018, 5.028240203857422, 4.521095275878906, 5.973392009735107, 4.584846019744873, 6.3082499504089355, 5.883718967437744, 37.59184646606445, 145.55145263671875, 1247.0628662109375, 23.92711639404297, 154.25167846679688, 299.2798156738281, 1494.0638427734375, 116.3335189819336, 725.997314453125, 39.24900817871094, 60.74930953979492, 58.64360809326172, 196.91116333007812, 263.4132995605469, 170.5840301513672, 114.76490020751953, 82.28067016601562, 151.94570922851562, 82.59715270996094, 25.766817092895508, 507.5491943359375, 30.409833908081055, 200.7122344970703, 275.99859619140625, 112.04823303222656, 236.1302490234375, 210.60325622558594, 320.92510986328125, 79.99942016601562, 149.54872131347656, 434.6107177734375, 99.94110107421875, 124.1461181640625, 141.99270629882812, 111.65093994140625, 106.20674133300781, 102.80683135986328, 105.67049407958984, 104.7828598022461, 111.37372589111328, 110.77232360839844, 122.44886016845703, 8.931466102600098, 6.997566223144531, 8.58352279663086, 10.401927947998047, 6.4409332275390625, 5.32780122756958, 12.912439346313477, 5.311420917510986, 36.47073745727539, 46.381656646728516, 5.799105644226074, 5.8967413902282715, 6.282765865325928, 5.327824115753174, 34.09620666503906, 5.812588214874268, 6.75480318069458, 4.719184398651123, 9.603413581848145, 21.275781631469727, 4.686184406280518, 5.167349338531494, 4.6575164794921875, 4.1507568359375, 5.143235683441162, 5.135473251342773, 5.130712985992432, 14.28742504119873, 5.599722862243652, 4.117089748382568, 12.106282234191895, 10.627117156982422, 14.58447265625, 6.4767560958862305, 26.085128784179688, 6.517655372619629, 9.929298400878906, 31.43598747253418, 17.473255157470703, 51.43705368041992, 17.777441024780273, 24.973995208740234, 84.99835968017578, 17.44761848449707, 10.059229850769043, 13.333763122558594, 21.650514602661133, 187.2877655029297, 52.94926452636719, 50.22541427612305, 107.97588348388672, 97.63890838623047, 93.43090057373047, 78.52276611328125, 343.8804626464844, 121.1766357421875, 99.1644515991211, 62.658226013183594, 138.07049560546875, 43.84773635864258, 106.35708618164062, 29.57646369934082, 156.66925048828125, 33.23738479614258, 276.6363220214844, 79.0685043334961, 53.52519607543945, 117.663818359375, 79.31063842773438, 71.221435546875, 100.35736083984375, 61.36640167236328, 77.79540252685547, 79.15779113769531, 76.84830474853516, 91.72978210449219, 120.01587677001953, 104.28007507324219, 62.12703323364258, 82.25379180908203, 84.31137084960938, 89.813720703125, 62.33858871459961, 13.878503799438477, 6.312090873718262, 7.2621917724609375, 6.228144645690918, 5.742651462554932, 7.913446426391602, 5.770201683044434, 7.088838577270508, 5.204913139343262, 5.241481304168701, 7.0189008712768555, 9.702465057373047, 4.64912748336792, 4.255112648010254, 4.250327110290527, 4.315316677093506, 6.921694755554199, 4.221532821655273, 4.212897300720215, 4.597010612487793, 8.18702220916748, 4.2617387771606445, 9.431352615356445, 7.314995765686035, 4.184000015258789, 3.735163688659668, 3.7344589233398438, 5.440819263458252, 4.168539047241211, 3.720935344696045, 16.18058204650879, 24.456422805786133, 317.1939392089844, 46.09126281738281, 21.33772087097168, 180.67190551757812, 15.48841667175293, 128.1071319580078, 110.90809631347656, 34.74894332885742, 78.60231018066406, 70.0978775024414, 18.288415908813477, 175.79660034179688, 933.7590942382812, 79.5274658203125, 19.32686424255371, 130.39422607421875, 13.036271095275879, 100.46864318847656, 67.93267059326172, 22.415721893310547, 23.882383346557617, 48.77946090698242, 30.377655029296875, 345.7930603027344, 73.49874114990234, 60.63727569580078, 80.45484924316406, 41.15293884277344, 62.37266540527344, 57.94183349609375, 44.32654571533203, 81.85930633544922, 58.3333740234375, 302.2486267089844, 204.45333862304688, 55.44523620605469, 90.63777160644531, 92.37115478515625, 59.58452606201172, 139.60658264160156, 75.80517578125, 66.97638702392578, 62.53987121582031, 97.8028793334961, 93.9569091796875, 75.98207092285156, 65.99835205078125, 67.24414825439453, 65.79388427734375, 19.460988998413086, 16.328126907348633, 20.265932083129883, 7.0758843421936035, 5.759936809539795, 6.839941501617432, 5.666477680206299, 6.032676696777344, 6.945748805999756, 7.94913387298584, 5.095241546630859, 4.61664342880249, 5.969644069671631, 4.2204694747924805, 5.493835926055908, 7.2767839431762695, 4.192722320556641, 5.468940734863281, 4.174153804779053, 4.162039756774902, 27.356672286987305, 4.155019283294678, 4.150755882263184, 4.13544225692749, 3.6921396255493164, 7.612485885620117, 5.904376983642578, 3.792771339416504, 3.641597032546997, 3.640519380569458, 26.344263076782227, 7.003498554229736, 16.263195037841797, 21.89995574951172, 15.603425979614258, 11.751412391662598, 8.040563583374023, 20.656959533691406, 8.321684837341309, 43.913421630859375, 111.5394515991211, 168.79782104492188, 15.886204719543457, 61.66337966918945, 16.461910247802734, 17.115270614624023, 53.1335563659668, 30.36207389831543, 59.982574462890625, 94.99832916259766, 15.243587493896484, 14.902917861938477, 250.22511291503906, 74.48091888427734, 69.97970581054688, 29.232568740844727, 35.75537872314453, 47.715721130371094, 45.1099853515625, 34.00823211669922, 89.9709243774414, 75.37866973876953, 48.01300811767578, 42.20652389526367, 36.976707458496094, 195.7119598388672, 77.47544860839844, 164.13470458984375, 44.96302032470703, 61.015167236328125, 52.35296630859375, 64.92151641845703, 79.03112030029297, 56.060874938964844, 61.254966735839844, 63.841697692871094, 89.43933868408203, 42.922996520996094, 59.99162292480469, 67.9727554321289, 47.08060836791992, 53.371273040771484, 56.366859436035156, 48.003929138183594], \"Total\": [3052.0, 1942.0, 1885.0, 408.0, 2618.0, 243.0, 484.0, 185.0, 1534.0, 1308.0, 402.0, 160.0, 1579.0, 286.0, 507.0, 114.0, 335.0, 212.0, 180.0, 356.0, 487.0, 177.0, 250.0, 491.0, 235.0, 549.0, 210.0, 216.0, 84.0, 122.0, 14.489564895629883, 9.52530574798584, 7.368599891662598, 7.367037773132324, 11.279833793640137, 6.890599727630615, 7.358818531036377, 17.77230453491211, 6.32694149017334, 6.243430137634277, 6.415041446685791, 6.248648643493652, 5.898951053619385, 5.207991600036621, 5.775583744049072, 5.2075514793396, 5.292901515960693, 15.507450103759766, 6.333378314971924, 6.327913761138916, 4.732509613037109, 5.211179733276367, 9.558917999267578, 4.647909164428711, 4.648554801940918, 6.311953544616699, 4.813607692718506, 6.82207727432251, 4.647374153137207, 5.2117719650268555, 57.91704559326172, 210.62998962402344, 17.776195526123047, 15.082992553710938, 1942.2818603515625, 83.43407440185547, 172.5067596435547, 141.06332397460938, 27.321847915649414, 18.345802307128906, 2618.33935546875, 63.95146560668945, 1308.809326171875, 216.9796600341797, 63.49330520629883, 140.48751831054688, 501.7593688964844, 264.65020751953125, 436.9723815917969, 192.03750610351562, 145.8058319091797, 545.6102294921875, 99.58692932128906, 324.4039306640625, 180.29124450683594, 747.9660034179688, 56.343994140625, 182.98831176757812, 469.2828369140625, 1534.09814453125, 277.206787109375, 646.8380126953125, 1579.198974609375, 90.25121307373047, 477.5382995605469, 398.2771301269531, 1885.9271240234375, 484.94183349609375, 365.3569641113281, 350.86572265625, 764.0686645507812, 3052.292724609375, 249.3299102783203, 278.20660400390625, 402.73089599609375, 295.1252136230469, 55.72630310058594, 25.540727615356445, 13.944229125976562, 84.4619369506836, 12.901310920715332, 8.54387092590332, 7.983553409576416, 7.419400691986084, 7.419373035430908, 7.979846954345703, 7.419278621673584, 32.65735626220703, 7.978954792022705, 7.9836745262146, 8.547014236450195, 8.546674728393555, 21.146154403686523, 7.5018463134765625, 6.853367328643799, 7.416110992431641, 6.374318599700928, 6.37374210357666, 6.931324005126953, 5.724404811859131, 5.807222843170166, 5.243110179901123, 6.933428764343262, 5.326838493347168, 7.3302507400512695, 6.850393772125244, 45.12794494628906, 180.6333465576172, 1885.9271240234375, 29.866697311401367, 235.50048828125, 487.9591979980469, 3052.292724609375, 191.3480987548828, 1534.09814453125, 58.001983642578125, 96.96426391601562, 93.59667205810547, 386.98681640625, 549.687744140625, 338.7019348144531, 212.94778442382812, 144.1536407470703, 313.19775390625, 151.12338256835938, 37.78509521484375, 1579.198974609375, 47.02696990966797, 507.8840637207031, 764.0686645507812, 246.73985290527344, 747.9660034179688, 646.8380126953125, 1308.809326171875, 172.35678100585938, 469.2828369140625, 2618.33935546875, 250.43955993652344, 360.4234619140625, 477.5382995605469, 324.4039306640625, 294.7015686035156, 278.20660400390625, 304.8692932128906, 300.8038024902344, 398.2771301269531, 491.6741027832031, 1942.2818603515625, 9.691055297851562, 7.723922252655029, 9.528493881225586, 11.64676570892334, 7.21683406829834, 6.038340091705322, 14.668891906738281, 6.037022590637207, 41.55753707885742, 52.95867919921875, 6.622848033905029, 6.756442070007324, 7.205277442932129, 6.122249126434326, 39.182533264160156, 6.7013726234436035, 7.790246963500977, 5.444962501525879, 11.136978149414062, 24.70029067993164, 5.444943904876709, 6.022486209869385, 5.441025733947754, 4.856435775756836, 6.023804664611816, 6.023138046264648, 6.019048690795898, 16.771982192993164, 6.5969038009643555, 4.854478359222412, 14.534111976623535, 12.850377082824707, 17.870969772338867, 7.692083358764648, 34.52705764770508, 7.777144432067871, 12.356316566467285, 44.49847412109375, 23.284652709960938, 80.45066833496094, 24.20834732055664, 35.65882110595703, 146.2095184326172, 24.303878784179688, 12.927803039550781, 18.499065399169922, 33.887508392333984, 507.8840637207031, 105.39102935791016, 107.12833404541016, 295.1252136230469, 261.39642333984375, 250.465087890625, 205.34271240234375, 1579.198974609375, 390.2406005859375, 300.8038024902344, 157.69276428222656, 491.6741027832031, 95.9580078125, 356.3479309082031, 55.355464935302734, 764.0686645507812, 69.36567687988281, 2618.33935546875, 304.8692932128906, 161.4029541015625, 646.8380126953125, 335.0887756347656, 276.8484191894531, 549.687744140625, 213.27821350097656, 350.86572265625, 365.3569641113281, 386.98681640625, 747.9660034179688, 1942.2818603515625, 1308.809326171875, 289.5726318359375, 1534.09814453125, 1885.9271240234375, 3052.292724609375, 360.4234619140625, 15.11265754699707, 7.040838718414307, 8.11451244354248, 7.047411918640137, 6.511120319366455, 9.011650085449219, 6.596085548400879, 8.121020317077637, 5.979206085205078, 6.06138801574707, 8.123820304870605, 11.246964454650879, 5.4489617347717285, 4.992398262023926, 4.994072914123535, 5.074790000915527, 8.141120910644531, 4.995404243469238, 4.994874477386475, 5.453798770904541, 9.74332332611084, 5.0727033615112305, 11.240379333496094, 8.730123519897461, 4.994446277618408, 4.460263252258301, 4.460582733154297, 6.507440567016602, 4.997638702392578, 4.461421489715576, 19.43671226501465, 29.591350555419922, 408.68853759765625, 58.91177749633789, 26.645240783691406, 243.96839904785156, 19.190109252929688, 185.84149169921875, 160.51124572753906, 47.355072021484375, 114.00091552734375, 122.86712646484375, 26.499372482299805, 402.73089599609375, 3052.292724609375, 159.60865783691406, 29.46653175354004, 335.0887756347656, 18.213958740234375, 250.0713348388672, 156.27352905273438, 37.26345443725586, 43.36561584472656, 115.65992736816406, 60.3142204284668, 1942.2818603515625, 212.94778442382812, 164.14944458007812, 250.43955993652344, 95.14315032958984, 177.8944854736328, 162.36434936523438, 108.9955825805664, 294.7015686035156, 171.18734741210938, 2618.33935546875, 1534.09814453125, 178.06703186035156, 491.6741027832031, 545.6102294921875, 228.0008544921875, 1885.9271240234375, 477.5382995605469, 338.7019348144531, 269.713623046875, 1308.809326171875, 1579.198974609375, 764.0686645507812, 365.3569641113281, 549.687744140625, 501.7593688964844, 21.203372955322266, 18.204944610595703, 22.736068725585938, 7.949742317199707, 6.5256028175354, 7.764116287231445, 6.534542560577393, 6.995290756225586, 8.062518119812012, 9.232370376586914, 5.924485206604004, 5.396693229675293, 6.9856438636779785, 4.946994304656982, 6.460601806640625, 8.585588455200195, 4.948537349700928, 6.461236953735352, 4.951056003570557, 4.9497504234313965, 32.55385971069336, 4.950531959533691, 4.948663711547852, 4.950324058532715, 4.420719623565674, 9.1255521774292, 7.078464508056641, 4.549928188323975, 4.423258304595947, 4.424053192138672, 32.88648223876953, 8.599457740783691, 21.04102325439453, 30.156036376953125, 21.199392318725586, 15.869391441345215, 10.525959014892578, 32.94732666015625, 11.420751571655273, 87.87455749511719, 286.46807861328125, 484.94183349609375, 26.169286727905273, 157.23980712890625, 27.734420776367188, 29.323436737060547, 137.08265686035156, 65.48379516601562, 177.8944854736328, 356.3479309082031, 26.522171020507812, 25.699106216430664, 1579.198974609375, 275.7405700683594, 262.530029296875, 70.70378875732422, 100.25214385986328, 167.71038818359375, 154.35813903808594, 98.10135650634766, 491.6741027832031, 390.2406005859375, 187.19921875, 160.4354248046875, 125.34806823730469, 3052.292724609375, 549.687744140625, 2618.33935546875, 191.99163818359375, 398.2771301269531, 277.206787109375, 469.2828369140625, 764.0686645507812, 365.3569641113281, 477.5382995605469, 545.6102294921875, 1942.2818603515625, 181.31793212890625, 646.8380126953125, 1308.809326171875, 269.713623046875, 747.9660034179688, 1534.09814453125, 501.7593688964844], \"Category\": [\"Default\", \"Default\", \"Default\", \"Default\", \"Default\", \"Default\", \"Default\", \"Default\", \"Default\", \"Default\", \"Default\", \"Default\", \"Default\", \"Default\", \"Default\", \"Default\", \"Default\", \"Default\", \"Default\", \"Default\", \"Default\", \"Default\", \"Default\", \"Default\", \"Default\", \"Default\", \"Default\", \"Default\", \"Default\", \"Default\", \"Topic1\", \"Topic1\", \"Topic1\", \"Topic1\", \"Topic1\", \"Topic1\", \"Topic1\", \"Topic1\", \"Topic1\", \"Topic1\", \"Topic1\", \"Topic1\", \"Topic1\", \"Topic1\", \"Topic1\", \"Topic1\", \"Topic1\", \"Topic1\", \"Topic1\", \"Topic1\", \"Topic1\", \"Topic1\", \"Topic1\", \"Topic1\", \"Topic1\", \"Topic1\", \"Topic1\", \"Topic1\", \"Topic1\", \"Topic1\", \"Topic1\", \"Topic1\", \"Topic1\", \"Topic1\", \"Topic1\", \"Topic1\", \"Topic1\", \"Topic1\", \"Topic1\", \"Topic1\", \"Topic1\", \"Topic1\", \"Topic1\", \"Topic1\", \"Topic1\", \"Topic1\", \"Topic1\", \"Topic1\", \"Topic1\", \"Topic1\", \"Topic1\", \"Topic1\", \"Topic1\", \"Topic1\", \"Topic1\", \"Topic1\", \"Topic1\", \"Topic1\", \"Topic1\", \"Topic1\", \"Topic1\", \"Topic1\", \"Topic1\", \"Topic1\", \"Topic1\", \"Topic1\", \"Topic1\", \"Topic1\", \"Topic1\", \"Topic1\", \"Topic1\", \"Topic1\", \"Topic1\", \"Topic1\", \"Topic1\", \"Topic1\", \"Topic2\", \"Topic2\", \"Topic2\", \"Topic2\", \"Topic2\", \"Topic2\", \"Topic2\", \"Topic2\", \"Topic2\", \"Topic2\", \"Topic2\", \"Topic2\", \"Topic2\", \"Topic2\", \"Topic2\", \"Topic2\", \"Topic2\", \"Topic2\", \"Topic2\", \"Topic2\", \"Topic2\", \"Topic2\", \"Topic2\", \"Topic2\", \"Topic2\", \"Topic2\", \"Topic2\", \"Topic2\", \"Topic2\", \"Topic2\", \"Topic2\", \"Topic2\", \"Topic2\", \"Topic2\", \"Topic2\", \"Topic2\", \"Topic2\", \"Topic2\", \"Topic2\", \"Topic2\", \"Topic2\", \"Topic2\", \"Topic2\", \"Topic2\", \"Topic2\", \"Topic2\", \"Topic2\", \"Topic2\", \"Topic2\", \"Topic2\", \"Topic2\", \"Topic2\", \"Topic2\", \"Topic2\", \"Topic2\", \"Topic2\", \"Topic2\", \"Topic2\", \"Topic2\", \"Topic2\", \"Topic2\", \"Topic2\", \"Topic2\", \"Topic2\", \"Topic2\", \"Topic2\", \"Topic2\", \"Topic2\", \"Topic2\", \"Topic2\", \"Topic2\", \"Topic2\", \"Topic3\", \"Topic3\", \"Topic3\", \"Topic3\", \"Topic3\", \"Topic3\", \"Topic3\", \"Topic3\", \"Topic3\", \"Topic3\", \"Topic3\", \"Topic3\", \"Topic3\", \"Topic3\", \"Topic3\", \"Topic3\", \"Topic3\", \"Topic3\", \"Topic3\", \"Topic3\", \"Topic3\", \"Topic3\", \"Topic3\", \"Topic3\", \"Topic3\", \"Topic3\", \"Topic3\", \"Topic3\", \"Topic3\", \"Topic3\", \"Topic3\", \"Topic3\", \"Topic3\", \"Topic3\", \"Topic3\", \"Topic3\", \"Topic3\", \"Topic3\", \"Topic3\", \"Topic3\", \"Topic3\", \"Topic3\", \"Topic3\", \"Topic3\", \"Topic3\", \"Topic3\", \"Topic3\", \"Topic3\", \"Topic3\", \"Topic3\", \"Topic3\", \"Topic3\", \"Topic3\", \"Topic3\", \"Topic3\", \"Topic3\", \"Topic3\", \"Topic3\", \"Topic3\", \"Topic3\", \"Topic3\", \"Topic3\", \"Topic3\", \"Topic3\", \"Topic3\", \"Topic3\", \"Topic3\", \"Topic3\", \"Topic3\", \"Topic3\", \"Topic3\", \"Topic3\", \"Topic3\", \"Topic3\", \"Topic3\", \"Topic3\", \"Topic3\", \"Topic3\", \"Topic3\", \"Topic3\", \"Topic3\", \"Topic3\", \"Topic3\", \"Topic4\", \"Topic4\", \"Topic4\", \"Topic4\", \"Topic4\", \"Topic4\", \"Topic4\", \"Topic4\", \"Topic4\", \"Topic4\", \"Topic4\", \"Topic4\", \"Topic4\", \"Topic4\", \"Topic4\", \"Topic4\", \"Topic4\", \"Topic4\", \"Topic4\", \"Topic4\", \"Topic4\", \"Topic4\", \"Topic4\", \"Topic4\", \"Topic4\", \"Topic4\", \"Topic4\", \"Topic4\", \"Topic4\", \"Topic4\", \"Topic4\", \"Topic4\", \"Topic4\", \"Topic4\", \"Topic4\", \"Topic4\", \"Topic4\", \"Topic4\", \"Topic4\", \"Topic4\", \"Topic4\", \"Topic4\", \"Topic4\", \"Topic4\", \"Topic4\", \"Topic4\", \"Topic4\", \"Topic4\", \"Topic4\", \"Topic4\", \"Topic4\", \"Topic4\", \"Topic4\", \"Topic4\", \"Topic4\", \"Topic4\", \"Topic4\", \"Topic4\", \"Topic4\", \"Topic4\", \"Topic4\", \"Topic4\", \"Topic4\", \"Topic4\", \"Topic4\", \"Topic4\", \"Topic4\", \"Topic4\", \"Topic4\", \"Topic4\", \"Topic4\", \"Topic4\", \"Topic4\", \"Topic4\", \"Topic4\", \"Topic4\", \"Topic4\", \"Topic4\", \"Topic4\", \"Topic4\", \"Topic4\", \"Topic5\", \"Topic5\", \"Topic5\", \"Topic5\", \"Topic5\", \"Topic5\", \"Topic5\", \"Topic5\", \"Topic5\", \"Topic5\", \"Topic5\", \"Topic5\", \"Topic5\", \"Topic5\", \"Topic5\", \"Topic5\", \"Topic5\", \"Topic5\", \"Topic5\", \"Topic5\", \"Topic5\", \"Topic5\", \"Topic5\", \"Topic5\", \"Topic5\", \"Topic5\", \"Topic5\", \"Topic5\", \"Topic5\", \"Topic5\", \"Topic5\", \"Topic5\", \"Topic5\", \"Topic5\", \"Topic5\", \"Topic5\", \"Topic5\", \"Topic5\", \"Topic5\", \"Topic5\", \"Topic5\", \"Topic5\", \"Topic5\", \"Topic5\", \"Topic5\", \"Topic5\", \"Topic5\", \"Topic5\", \"Topic5\", \"Topic5\", \"Topic5\", \"Topic5\", \"Topic5\", \"Topic5\", \"Topic5\", \"Topic5\", \"Topic5\", \"Topic5\", \"Topic5\", \"Topic5\", \"Topic5\", \"Topic5\", \"Topic5\", \"Topic5\", \"Topic5\", \"Topic5\", \"Topic5\", \"Topic5\", \"Topic5\", \"Topic5\", \"Topic5\", \"Topic5\", \"Topic5\", \"Topic5\", \"Topic5\", \"Topic5\", \"Topic5\", \"Topic5\", \"Topic5\", \"Topic5\", \"Topic5\", \"Topic5\", \"Topic5\", \"Topic5\"], \"logprob\": [30.0, 29.0, 28.0, 27.0, 26.0, 25.0, 24.0, 23.0, 22.0, 21.0, 20.0, 19.0, 18.0, 17.0, 16.0, 15.0, 14.0, 13.0, 12.0, 11.0, 10.0, 9.0, 8.0, 7.0, 6.0, 5.0, 4.0, 3.0, 2.0, 1.0, -7.570300102233887, -8.030500411987305, -8.292099952697754, -8.296199798583984, -7.870500087738037, -8.369199752807617, -8.311699867248535, -7.430099964141846, -8.46679973602295, -8.486100196838379, -8.461199760437012, -8.503499984741211, -8.563300132751465, -8.690500259399414, -8.5871000289917, -8.690799713134766, -8.675800323486328, -7.604300022125244, -8.500800132751465, -8.502400398254395, -8.79520034790039, -8.699600219726562, -8.094300270080566, -8.81659984588623, -8.817700386047363, -8.512200355529785, -8.783699989318848, -8.436300277709961, -8.824000358581543, -8.709600448608398, -6.344699859619141, -5.110899925231934, -7.52400016784668, -7.684199810028076, -3.0429000854492188, -6.078199863433838, -5.395500183105469, -5.610599994659424, -7.139400005340576, -7.514500141143799, -2.9124999046325684, -6.375800132751465, -3.6092000007629395, -5.260700225830078, -6.386499881744385, -5.692299842834473, -4.567599773406982, -5.1774001121521, -4.7754998207092285, -5.49560022354126, -5.747600078582764, -4.633399963378906, -6.085100173950195, -5.099299907684326, -5.623199939727783, -4.4633002281188965, -6.59089994430542, -5.651199817657471, -4.92110013961792, -4.043300151824951, -5.382999897003174, -4.832699775695801, -4.235799789428711, -6.269199848175049, -5.10230016708374, -5.255099773406982, -4.207799911499023, -5.163000106811523, -5.339000225067139, -5.384500026702881, -5.012700080871582, -4.359600067138672, -5.598499774932861, -5.58459997177124, -5.55019998550415, -5.585299968719482, -6.184899806976318, -6.995800018310547, -7.6107001304626465, -5.820400238037109, -7.707600116729736, -8.132499694824219, -8.206899642944336, -8.281700134277344, -8.281900405883789, -8.209099769592285, -8.282299995422363, -6.8018999099731445, -8.21150016784668, -8.217000007629395, -8.149700164794922, -8.149999618530273, -7.244200229644775, -8.280799865722656, -8.373600006103516, -8.296600341796875, -8.456500053405762, -8.458399772644043, -8.385100364685059, -8.576600074768066, -8.568599700927734, -8.67490005493164, -8.396400451660156, -8.660900115966797, -8.34179973602295, -8.411499977111816, -6.5569000244140625, -5.203199863433838, -3.0552000999450684, -7.008699893951416, -5.145100116729736, -4.4822998046875, -2.8743999004364014, -5.427199840545654, -3.5961999893188477, -6.513800144195557, -6.076900005340576, -6.112199783325195, -4.900899887084961, -4.610000133514404, -5.04449987411499, -5.440800189971924, -5.773600101470947, -5.160200119018555, -5.769700050354004, -6.934599876403809, -3.9540998935699463, -6.768899917602539, -4.881800174713135, -4.563300132751465, -5.464799880981445, -4.719299793243408, -4.833700180053711, -4.412499904632568, -5.801700115203857, -5.17609977722168, -4.1092000007629395, -5.579100131988525, -5.362199783325195, -5.22790002822876, -5.468299865722656, -5.5183000564575195, -5.55079984664917, -5.523399829864502, -5.531799793243408, -5.470799922943115, -5.476200103759766, -5.375999927520752, -7.60290002822876, -7.84689998626709, -7.642600059509277, -7.450500011444092, -7.929800033569336, -8.119500160217285, -7.234300136566162, -8.122599601745605, -6.196000099182129, -5.955599784851074, -8.034799575805664, -8.018099784851074, -7.954699993133545, -8.119500160217285, -6.263299942016602, -8.032400131225586, -7.882199764251709, -8.240799903869629, -7.530300140380859, -6.734899997711182, -8.24779987335205, -8.150099754333496, -8.253999710083008, -8.369199752807617, -8.154800415039062, -8.156299591064453, -8.15719985961914, -7.1331000328063965, -8.06980037689209, -8.377300262451172, -7.298699855804443, -7.429100036621094, -7.112500190734863, -7.924200057983398, -6.531099796295166, -7.918000221252441, -7.497000217437744, -6.3445000648498535, -6.93179988861084, -5.852099895477295, -6.9145002365112305, -6.5746002197265625, -5.349800109863281, -6.933300018310547, -7.484000205993652, -7.202199935913086, -6.717400074005127, -4.559800148010254, -5.8231000900268555, -5.875899791717529, -5.110599994659424, -5.21120023727417, -5.255199909210205, -5.429100036621094, -3.952199935913086, -4.995200157165527, -5.195700168609619, -5.654799938201904, -4.864699840545654, -6.01170015335083, -5.125699996948242, -6.4054999351501465, -4.73829984664917, -6.28879976272583, -4.1697998046875, -5.4222002029418945, -5.812300205230713, -5.024600028991699, -5.419099807739258, -5.526700019836426, -5.183700084686279, -5.675600051879883, -5.438399791717529, -5.421000003814697, -5.4506001472473145, -5.273600101470947, -5.004799842834473, -5.145400047302246, -5.663300037384033, -5.382699966430664, -5.357999801635742, -5.2947001457214355, -5.659900188446045, -7.05210018157959, -7.840000152587891, -7.69980001449585, -7.853400230407715, -7.934500217437744, -7.613900184631348, -7.929699897766113, -7.723899841308594, -8.03279972076416, -8.025799751281738, -7.733799934387207, -7.410099983215332, -8.14579963684082, -8.234299659729004, -8.23550033569336, -8.22029972076416, -7.747799873352051, -8.242300033569336, -8.24429988861084, -8.156999588012695, -7.579899787902832, -8.232799530029297, -7.438399791717529, -7.692500114440918, -8.251199722290039, -8.364700317382812, -8.364800453186035, -7.988500118255615, -8.254899978637695, -8.368499755859375, -6.898600101470947, -6.485599994659424, -3.9228999614715576, -5.851799964904785, -6.622000217437744, -4.485799789428711, -6.942399978637695, -4.829599857330322, -4.973700046539307, -6.134300231933594, -5.317999839782715, -5.432600021362305, -6.776199817657471, -4.5131001472473145, -2.8431999683380127, -5.306300163269043, -6.7210001945495605, -4.8119001388549805, -7.114699840545654, -5.0725998878479, -5.463900089263916, -6.572700023651123, -6.509300231933594, -5.795100212097168, -6.268700122833252, -3.8366000652313232, -5.385200023651123, -5.577499866485596, -5.2947998046875, -5.965199947357178, -5.549300193786621, -5.623000144958496, -5.890900135040283, -5.277400016784668, -5.616300106048584, -3.9711999893188477, -4.362100124359131, -5.667099952697754, -5.175600051879883, -5.156599998474121, -5.595099925994873, -4.743599891662598, -5.354300022125244, -5.478099822998047, -5.546599864959717, -5.0995001792907715, -5.139599800109863, -5.3520002365112305, -5.492800235748291, -5.474100112915039, -5.4959001541137695, -6.543700218200684, -6.719200134277344, -6.5030999183654785, -7.5553998947143555, -7.761099815368652, -7.589300155639648, -7.777500152587891, -7.714900016784668, -7.57390022277832, -7.439000129699707, -7.883800029754639, -7.982399940490723, -7.725399971008301, -8.072099685668945, -7.8084001541137695, -7.527400016784668, -8.078700065612793, -7.813000202178955, -8.083200454711914, -8.086099624633789, -6.203100204467773, -8.087800025939941, -8.088800430297852, -8.092499732971191, -8.205900192260742, -7.4822998046875, -7.736400127410889, -8.178999900817871, -8.219599723815918, -8.219900131225586, -6.240799903869629, -7.565700054168701, -6.723199844360352, -6.425600051879883, -6.764599800109863, -7.048099994659424, -7.427599906921387, -6.484000205993652, -7.393199920654297, -5.729800224304199, -4.797699928283691, -4.383399963378906, -6.746600151062012, -5.390399932861328, -6.710999965667725, -6.672100067138672, -5.539299964904785, -6.098899841308594, -5.418000221252441, -4.958199977874756, -6.787899971008301, -6.810500144958496, -3.9897000789642334, -5.201499938964844, -5.263899803161621, -6.1367998123168945, -5.935400009155273, -5.6468000411987305, -5.703000068664551, -5.985499858856201, -5.012599945068359, -5.189499855041504, -5.640600204467773, -5.769499778747559, -5.901800155639648, -4.235400199890137, -5.162099838256836, -4.411399841308594, -5.706200122833252, -5.400899887084961, -5.554100036621094, -5.338900089263916, -5.142199993133545, -5.485599994659424, -5.396999835968018, -5.3557000160217285, -5.018499851226807, -5.752699851989746, -5.417900085449219, -5.293000221252441, -5.660200119018555, -5.534800052642822, -5.480199813842773, -5.6407999992370605], \"loglift\": [30.0, 29.0, 28.0, 27.0, 26.0, 25.0, 24.0, 23.0, 22.0, 21.0, 20.0, 19.0, 18.0, 17.0, 16.0, 15.0, 14.0, 13.0, 12.0, 11.0, 10.0, 9.0, 8.0, 7.0, 6.0, 5.0, 4.0, 3.0, 2.0, 1.0, 1.2734999656677246, 1.232800006866455, 1.2280000448226929, 1.2239999771118164, 1.2237999439239502, 1.218000054359436, 1.2096999883651733, 1.2095999717712402, 1.2057000398635864, 1.1996999979019165, 1.1974999904632568, 1.181399941444397, 1.1792000532150269, 1.1765999794006348, 1.1764999628067017, 1.1763999462127686, 1.1750999689102173, 1.1717000007629395, 1.1706000566482544, 1.1698999404907227, 1.1676000356674194, 1.1669000387191772, 1.1655000448226929, 1.1642999649047852, 1.1629999876022339, 1.162600040435791, 1.1620999574661255, 1.1607999801635742, 1.1569000482559204, 1.1567000150680542, 1.1136000156402588, 1.0563000440597534, 1.115399956703186, 1.1195000410079956, 0.9027000069618225, 1.0151000022888184, 0.9714000225067139, 0.9574999809265137, 1.070199966430664, 1.093400001525879, 0.734499990940094, 0.983299970626831, 0.7311999797821045, 0.876800000667572, 0.9797999858856201, 0.879800021648407, 0.7315000295639038, 0.7613999843597412, 0.661899983882904, 0.7639999985694885, 0.7874000072479248, 0.5820000171661377, 0.8312000036239624, 0.6359999775886536, 0.6995000243186951, 0.436599999666214, 0.8949000239372253, 0.6565999984741211, 0.4449999928474426, 0.13830000162124634, 0.5095000267028809, 0.21250000596046448, -0.08320000022649765, 0.7455000281333923, 0.24629999697208405, 0.2750000059604645, -0.23270000517368317, 0.17020000517368317, 0.2773999869823456, 0.27230000495910645, -0.13410000503063202, -0.8659999966621399, 0.4000000059604645, 0.3043000102043152, -0.031199999153614044, 0.24459999799728394, 1.311900019645691, 1.2812000513076782, 1.2714999914169312, 1.260599970817566, 1.2523000240325928, 1.2395000457763672, 1.2330000400543213, 1.2315000295639038, 1.2312999963760376, 1.2312999963760376, 1.2309000492095947, 1.2293000221252441, 1.2288999557495117, 1.2228000164031982, 1.222000002861023, 1.2216999530792236, 1.2216999530792236, 1.2214000225067139, 1.2188999652862549, 1.2170000076293945, 1.2085000276565552, 1.2066999673843384, 1.1960999965667725, 1.1958999633789062, 1.1894999742507935, 1.1854000091552734, 1.184499979019165, 1.1835999488830566, 1.18340003490448, 1.18149995803833, 1.1509000062942505, 1.1175999641418457, 0.9199000000953674, 1.111799955368042, 0.9103999733924866, 0.8446999788284302, 0.6191999912261963, 0.8359000086784363, 0.5853999853134155, 0.9430000185966492, 0.8659999966621399, 0.866100013256073, 0.6578999757766724, 0.5978999733924866, 0.6477000117301941, 0.715399980545044, 0.7728000283241272, 0.6103000044822693, 0.7294999957084656, 0.9506999850273132, 0.19850000739097595, 0.897599995136261, 0.4052000045776367, 0.31529998779296875, 0.5442000031471252, 0.18060000240802765, 0.21150000393390656, -0.07209999859333038, 0.5659999847412109, 0.1899999976158142, -0.46230000257492065, 0.414900004863739, 0.2678000032901764, 0.12070000171661377, 0.2669999897480011, 0.31299999356269836, 0.33809998631477356, 0.27399998903274536, 0.27900001406669617, 0.059300001710653305, -0.15680000185966492, -1.430299997329712, 1.6432000398635864, 1.6260000467300415, 1.6203999519348145, 1.611799955368042, 1.6110999584197998, 1.5995999574661255, 1.5973000526428223, 1.5967999696731567, 1.5942000150680542, 1.5922000408172607, 1.5920000076293945, 1.5887000560760498, 1.5878000259399414, 1.585800051689148, 1.585800051689148, 1.5824999809265137, 1.582200050354004, 1.5817999839782715, 1.57669997215271, 1.575600028038025, 1.5746999979019165, 1.5716999769210815, 1.5693000555038452, 1.5678000450134277, 1.5667999982833862, 1.5654000043869019, 1.5650999546051025, 1.5644999742507935, 1.5608999729156494, 1.5600999593734741, 1.5420000553131104, 1.5348000526428223, 1.5216000080108643, 1.5528000593185425, 1.4443999528884888, 1.5480999946594238, 1.506100058555603, 1.3773000240325928, 1.4377000331878662, 1.277500033378601, 1.4160000085830688, 1.3686000108718872, 1.1823999881744385, 1.393399953842163, 1.4738999605178833, 1.3974000215530396, 1.2768000364303589, 0.7271999716758728, 1.0364999771118164, 0.9672999978065491, 0.7192999720573425, 0.7400000095367432, 0.7386999726295471, 0.7634999752044678, 0.2003999948501587, 0.5552999973297119, 0.6151000261306763, 0.8019000291824341, 0.454800009727478, 0.9416000247001648, 0.5156999826431274, 1.0980000495910645, 0.14030000567436218, 0.9890999794006348, -0.5228000283241272, 0.3752000033855438, 0.6211000084877014, 0.020500000566244125, 0.28380000591278076, 0.3671000003814697, 0.02419999986886978, 0.47909998893737793, 0.21850000321865082, 0.19539999961853027, 0.10830000042915344, -0.37369999289512634, -1.0592000484466553, -0.8050000071525574, 0.18559999763965607, -1.2010999917984009, -1.3827999830245972, -1.8011000156402588, -0.029899999499320984, 1.7496000528335571, 1.725600004196167, 1.7238999605178833, 1.7111999988555908, 1.7092000246047974, 1.7049000263214111, 1.7010999917984009, 1.6988999843597412, 1.6960999965667725, 1.6894999742507935, 1.688599944114685, 1.6871000528335571, 1.6761000156402588, 1.6749999523162842, 1.6735999584197998, 1.672700047492981, 1.6726000308990479, 1.6664999723434448, 1.6646000146865845, 1.6639000177383423, 1.6607999801635742, 1.660599946975708, 1.6593999862670898, 1.6579999923706055, 1.6577999591827393, 1.6574000120162964, 1.657099962234497, 1.6557999849319458, 1.65339994430542, 1.6533000469207764, 1.6514999866485596, 1.6441999673843384, 1.5814000368118286, 1.589400053024292, 1.6126999855041504, 1.534500002861023, 1.6204999685287476, 1.4628000259399414, 1.4651999473571777, 1.5253000259399414, 1.4630000591278076, 1.2735999822616577, 1.4639999866485596, 1.0059000253677368, 0.6503999829292297, 1.138200044631958, 1.413100004196167, 0.890999972820282, 1.5003999471664429, 0.9229000210762024, 1.0017000436782837, 1.3265999555587769, 1.2382999658584595, 0.9714999794960022, 1.1490000486373901, 0.10899999737739563, 0.7710000276565552, 0.8389999866485596, 0.6992999911308289, 0.9966999888420105, 0.7868000268936157, 0.8044000267982483, 0.9351000189781189, 0.5539000034332275, 0.7581999897956848, -0.32420000433921814, -0.18050000071525574, 0.6680999994277954, 0.14390000700950623, 0.05869999900460243, 0.492900013923645, -0.7684999704360962, -0.00570000009611249, 0.21400000154972076, 0.3732999861240387, -0.7591000199317932, -0.9869999885559082, -0.4733000099658966, 0.12359999865293503, -0.2662000060081482, -0.19679999351501465, 1.9194999933242798, 1.896399974822998, 1.8902000188827515, 1.888800024986267, 1.8803999423980713, 1.878499984741211, 1.8626999855041504, 1.857200026512146, 1.8560999631881714, 1.8555999994277954, 1.8544000387191772, 1.8490999937057495, 1.8480000495910645, 1.8464000225067139, 1.8430999517440796, 1.8398000001907349, 1.8394999504089355, 1.8385000228881836, 1.8344999551773071, 1.8319000005722046, 1.8313000202178955, 1.8300000429153442, 1.8293999433517456, 1.8252999782562256, 1.8250999450683594, 1.8238999843597412, 1.823799967765808, 1.823199987411499, 1.8107999563217163, 1.8102999925613403, 1.783400058746338, 1.7999000549316406, 1.7475999593734741, 1.6852999925613403, 1.698699951171875, 1.704800009727478, 1.7359000444412231, 1.5384000539779663, 1.688599944114685, 1.3114999532699585, 1.062000036239624, 0.9498999714851379, 1.506100058555603, 1.069100022315979, 1.4836000204086304, 1.4667999744415283, 1.0573999881744385, 1.2366000413894653, 0.9180999994277954, 0.6832000017166138, 1.4514000415802002, 1.4602999687194824, 0.16290000081062317, 0.6963000297546387, 0.6830000281333923, 1.121999979019165, 0.9742000102996826, 0.748199999332428, 0.7749999761581421, 0.9458000063896179, 0.3068999946117401, 0.3610000014305115, 0.6445000171661377, 0.6699000000953674, 0.7843999862670898, -0.7418000102043152, 0.04580000042915344, -0.7644000053405762, 0.553600013256073, 0.12919999659061432, 0.3384999930858612, 0.0272000003606081, -0.2635999917984009, 0.13079999387264252, -0.04839999973773956, -0.14030000567436218, -1.0728000402450562, 0.5644000172615051, -0.3727000057697296, -0.9526000022888184, 0.2597000002861023, -0.6348999738693237, -1.2985999584197998, -0.3416000008583069]}, \"token.table\": {\"Topic\": [5, 2, 4, 1, 2, 3, 4, 5, 2, 2, 1, 2, 3, 4, 5, 2, 2, 2, 4, 5, 1, 2, 3, 4, 5, 1, 2, 3, 4, 5, 1, 4, 5, 1, 2, 3, 5, 2, 5, 4, 5, 1, 2, 3, 4, 5, 1, 1, 2, 3, 4, 5, 5, 1, 2, 3, 4, 5, 1, 3, 1, 2, 3, 4, 5, 3, 5, 5, 1, 3, 3, 1, 2, 3, 4, 5, 1, 2, 3, 4, 5, 3, 3, 1, 2, 3, 4, 5, 1, 2, 3, 4, 5, 2, 1, 2, 3, 4, 5, 1, 2, 3, 4, 5, 1, 2, 3, 4, 5, 1, 2, 3, 4, 5, 3, 1, 2, 3, 4, 5, 4, 1, 4, 1, 2, 3, 4, 5, 1, 2, 3, 4, 5, 1, 2, 3, 5, 1, 2, 3, 4, 5, 1, 2, 3, 4, 5, 1, 2, 3, 5, 4, 3, 2, 3, 4, 1, 1, 2, 3, 4, 5, 1, 2, 5, 1, 1, 2, 3, 4, 5, 1, 2, 3, 4, 5, 3, 1, 1, 2, 3, 4, 5, 5, 5, 3, 1, 1, 2, 3, 4, 5, 1, 2, 3, 4, 5, 1, 1, 2, 3, 4, 5, 3, 4, 1, 2, 3, 4, 5, 1, 2, 3, 5, 1, 2, 3, 4, 5, 1, 2, 5, 1, 2, 3, 4, 5, 3, 4, 1, 2, 3, 4, 5, 2, 1, 2, 3, 4, 1, 2, 3, 4, 5, 4, 5, 1, 3, 4, 1, 2, 3, 4, 5, 1, 4, 5, 1, 2, 3, 4, 5, 1, 3, 1, 3, 4, 5, 1, 5, 2, 1, 2, 3, 4, 5, 1, 4, 2, 1, 1, 2, 3, 4, 5, 2, 1, 2, 3, 4, 5, 4, 1, 3, 1, 2, 3, 4, 5, 4, 3, 3, 4, 1, 2, 3, 4, 5, 2, 1, 2, 3, 4, 5, 3, 1, 2, 1, 2, 3, 4, 1, 3, 4, 1, 2, 3, 4, 5, 1, 2, 3, 4, 5, 1, 2, 3, 4, 5, 1, 2, 3, 4, 5, 1, 2, 3, 4, 5, 1, 2, 3, 4, 5, 1, 2, 3, 4, 5, 5, 4, 1, 1, 2, 3, 4, 5, 1, 3, 4, 4, 1, 2, 3, 4, 5, 1, 2, 3, 4, 5, 2, 1, 2, 3, 4, 5, 1, 5, 1, 1, 2, 3, 4, 5, 1, 3, 5, 1, 2, 3, 4, 5, 1, 2, 3, 4, 5, 1, 2, 3, 4, 5, 1, 1, 2, 3, 4, 5, 5, 1, 1, 2, 3, 5, 1, 2, 3, 5, 1, 2, 3, 4, 5, 1, 2, 3, 5, 1, 1, 2, 3, 4, 5, 1, 2, 3, 4, 5, 1, 2, 3, 4, 5, 1, 2, 1, 2, 3, 4, 5, 1, 2, 3, 4, 5, 1, 2, 3, 4, 5, 4, 1, 2, 3, 4, 5, 4, 1, 2, 4, 4, 5, 1, 1, 2, 3, 4, 5, 2, 2, 1, 2, 3, 1, 2, 3, 4, 5, 1, 3, 1, 2, 3, 4, 5, 1, 2, 3, 4, 5, 1, 2, 3, 4, 5, 4, 5, 3, 1, 2, 3, 4, 5, 1, 2, 3, 1, 2, 3, 4, 5, 1, 2, 3, 4, 5, 3, 1, 2, 3, 4, 5, 1, 4, 5, 1, 4, 5, 1, 4, 2, 3, 1, 3, 5, 1, 2, 3, 4, 5, 5, 1, 3, 4, 1, 2, 3, 4, 5, 4, 1, 2, 3, 4, 5, 5, 1, 2, 3, 4, 5, 3, 4, 3, 5, 2, 3, 5, 1, 2, 3, 1, 2, 4, 5, 1, 2, 3, 4, 5, 1, 2, 3, 4, 5, 1, 2, 3, 4, 5, 3, 1, 2, 3, 4, 5, 1, 2, 3, 4, 5, 4, 1, 2, 3, 4, 5, 3, 4, 5, 1, 2, 3, 4, 5, 1, 1, 2, 3, 4, 5, 1, 1, 2, 3, 4, 5, 1, 5, 3, 1, 2, 3, 4, 5, 1, 2, 3, 4, 5, 1, 2, 3, 4, 5, 1, 2, 3, 4, 5, 1, 1, 2, 3, 1, 1, 2, 3, 4, 5, 1, 2, 4, 5, 1, 2, 3, 4, 5, 3, 3, 1, 2, 3, 4, 5, 5, 1, 2, 3, 4, 5, 2, 4, 1, 2, 3, 5, 1, 2, 3, 4, 5, 3, 1, 2, 3, 4, 5, 1, 4, 3, 1, 2, 3, 4, 5, 1, 5, 1, 2, 3, 4, 5, 5, 2, 2, 3, 1, 2, 3, 4, 5, 4, 2, 4, 5, 5, 3, 5, 1, 2, 3, 1, 2, 3, 4, 5, 1, 4, 1, 2, 3, 4, 5, 1, 2, 3, 4, 5, 3, 1, 5, 4, 1, 2, 3, 4, 5, 1, 3, 5, 2, 2, 5, 1, 2, 3, 4, 5, 1, 2, 4, 1, 2, 3, 4, 4, 1, 2, 3, 4, 5, 1, 2, 3, 4, 5, 1, 2, 3, 5, 1, 2, 3, 5, 2, 1, 2, 3, 4, 5, 1, 2, 3, 4, 5, 1, 2, 3, 4, 5, 1, 2, 3, 4, 5, 1, 2, 4, 1, 2, 3, 4, 5, 2, 1, 2, 3, 4, 5, 5, 2, 1, 3, 4, 5, 2, 1, 2, 1, 5, 4, 1, 2, 3, 4, 5, 1, 2, 3, 4, 5, 1, 2, 3, 4, 5, 2, 2, 4, 5, 1, 2, 3, 4, 5, 3, 3, 4, 5, 1, 2, 3, 4, 5, 1, 2, 3, 4, 5, 1, 2, 3, 4, 5, 1, 2, 3, 4, 5, 1, 2, 3, 5, 1, 2, 3, 4, 5, 1, 2, 3, 4, 3, 4, 1, 2, 3, 4, 5, 1, 2, 3, 4, 5, 1, 2, 3, 4, 5, 1, 2, 3, 4, 5, 5, 1, 2, 3, 4, 5, 1, 2, 4, 5], \"Freq\": [0.8081215620040894, 0.8758620619773865, 0.8009494543075562, 0.16379079222679138, 0.23235437273979187, 0.13712717592716217, 0.19807258248329163, 0.2666361629962921, 0.9412770867347717, 0.941362202167511, 0.14609722793102264, 0.32141390442848206, 0.38472267985343933, 0.07304861396551132, 0.07304861396551132, 0.8754820227622986, 0.8734532594680786, 0.8185259103775024, 0.8018214106559753, 0.11454591900110245, 0.25575390458106995, 0.15146590769290924, 0.1018049567937851, 0.43701639771461487, 0.05462704971432686, 0.11876421421766281, 0.35968589782714844, 0.10519116371870041, 0.278247594833374, 0.139123797416687, 0.05493013188242912, 0.05493013188242912, 0.878882110118866, 0.025521576404571533, 0.025521576404571533, 0.8677335977554321, 0.0765647292137146, 0.10831454396247864, 0.8665163516998291, 0.8008209466934204, 0.8082990050315857, 0.023059744387865067, 0.023059744387865067, 0.36895591020584106, 0.5534338355064392, 0.023059744387865067, 0.9446614384651184, 0.19281670451164246, 0.34906473755836487, 0.32911819219589233, 0.06981294602155685, 0.05983966961503029, 0.8079084753990173, 0.14151349663734436, 0.04717116430401802, 0.04717116430401802, 0.04717116430401802, 0.7547386288642883, 0.07781872898340225, 0.8560060262680054, 0.2759212553501129, 0.08397603780031204, 0.07997717708349228, 0.399885892868042, 0.1559554934501648, 0.1751198172569275, 0.70047926902771, 0.7738456130027771, 0.8369147777557373, 0.10461434721946716, 0.8313894867897034, 0.22936709225177765, 0.009174684062600136, 0.3302886188030243, 0.4036860764026642, 0.027524050325155258, 0.0841306522488594, 0.028043551370501518, 0.7010887861251831, 0.028043551370501518, 0.14021776616573334, 0.8302218914031982, 0.9286914467811584, 0.018783947452902794, 0.5400384664535522, 0.02347993478178978, 0.3428070545196533, 0.07513578981161118, 0.3930535316467285, 0.33690303564071655, 0.05615050345659256, 0.10427950322628021, 0.10829025506973267, 0.8773078918457031, 0.33545082807540894, 0.19313836097717285, 0.36594638228416443, 0.016941960901021957, 0.0880981981754303, 0.16158971190452576, 0.12429977208375931, 0.6339288353919983, 0.012429977767169476, 0.062149886041879654, 0.5485902428627014, 0.245261088013649, 0.07946153730154037, 0.07487721741199493, 0.05195562168955803, 0.23343580961227417, 0.17507685720920563, 0.18966658413410187, 0.014589738100767136, 0.38662806153297424, 0.8236492872238159, 0.49937742948532104, 0.34524857997894287, 0.02774319052696228, 0.08939472585916519, 0.04315607249736786, 0.8626519441604614, 0.9662125706672668, 0.8967438340187073, 0.24316124618053436, 0.32168206572532654, 0.21783195436000824, 0.059523846954107285, 0.15830810368061066, 0.03035147674381733, 0.21246033906936646, 0.06070295348763466, 0.09105443209409714, 0.6373810172080994, 0.033482108265161514, 0.8035706281661987, 0.06696421653032303, 0.10044632852077484, 0.1180979385972023, 0.5048686861991882, 0.08562100678682327, 0.19781404733657837, 0.09743079543113708, 0.030407629907131195, 0.030407629907131195, 0.09122288972139359, 0.030407629907131195, 0.7905983924865723, 0.17705638706684113, 0.11803759634494781, 0.6492067575454712, 0.05901879817247391, 0.8965752124786377, 0.8239814043045044, 0.05211017653346062, 0.10422035306692123, 0.7816526889801025, 0.8452175259590149, 0.41126585006713867, 0.31963667273521423, 0.042618222534656525, 0.08736735582351685, 0.13850921392440796, 0.838306725025177, 0.06448513269424438, 0.06448513269424438, 0.7674933075904846, 0.6389323472976685, 0.07099248468875885, 0.07099248468875885, 0.19522932171821594, 0.017748121172189713, 0.8115054965019226, 0.051798220723867416, 0.0863303691148758, 0.01726607419550419, 0.051798220723867416, 0.8300402164459229, 0.8865379095077515, 0.11752554774284363, 0.6303642988204956, 0.0641048401594162, 0.0641048401594162, 0.11752554774284363, 0.9264932870864868, 0.8476414680480957, 0.9000732898712158, 0.767580509185791, 0.1768139898777008, 0.2203768640756607, 0.3100651204586029, 0.09993834793567657, 0.19218912720680237, 0.4301835894584656, 0.17097041010856628, 0.0882427915930748, 0.07169726490974426, 0.23715250194072723, 0.865713357925415, 0.08250462263822556, 0.6290977597236633, 0.1650092452764511, 0.11344385892152786, 0.010313077829778194, 0.06616970151662827, 0.9263758063316345, 0.3088724613189697, 0.22463451325893402, 0.08423794060945511, 0.3088724613189697, 0.07300621271133423, 0.7036586403846741, 0.25018972158432007, 0.015636857599020004, 0.03127371519804001, 0.14921854436397552, 0.08289919048547745, 0.1657983809709549, 0.4973951280117035, 0.09947902709245682, 0.04728992283344269, 0.8985085487365723, 0.04728992283344269, 0.19692587852478027, 0.3188323676586151, 0.28601139783859253, 0.1406613439321518, 0.05157582461833954, 0.12283320724964142, 0.8598324656486511, 0.1223556324839592, 0.19696272909641266, 0.23575842380523682, 0.3879568874835968, 0.05371710658073425, 0.986966609954834, 0.12104451656341553, 0.33719542622566223, 0.12104451656341553, 0.42365580797195435, 0.07965900748968124, 0.07965900748968124, 0.09103886783123016, 0.25035688281059265, 0.5007137656211853, 0.7885341644287109, 0.808319628238678, 0.7087361216545105, 0.2677447497844696, 0.015749691054224968, 0.10356416553258896, 0.12793220579624176, 0.2680484354496002, 0.3716125786304474, 0.12793220579624176, 0.07506030797958374, 0.7881332635879517, 0.07506030797958374, 0.17121902108192444, 0.2536577880382538, 0.39951103925704956, 0.06975589692592621, 0.1078045666217804, 0.0897909626364708, 0.8979096412658691, 0.18852151930332184, 0.1131129115819931, 0.1131129115819931, 0.5655645728111267, 0.8476083278656006, 0.9181973934173584, 0.8609967231750488, 0.3262022137641907, 0.3262022137641907, 0.18242588639259338, 0.07266116142272949, 0.09275892376899719, 0.8309775590896606, 0.8968080282211304, 0.9301380515098572, 0.7894680500030518, 0.5829671025276184, 0.28119587898254395, 0.08915966749191284, 0.041150618344545364, 0.006858436390757561, 0.9434724450111389, 0.06787361204624176, 0.03393680602312088, 0.13574722409248352, 0.6447993516921997, 0.10181041806936264, 0.8007360100746155, 0.08586074411869049, 0.8586074709892273, 0.025477653369307518, 0.653926432132721, 0.04246275871992111, 0.1486196517944336, 0.12738826870918274, 0.8521711826324463, 0.8327229619026184, 0.7435451745986938, 0.24784839153289795, 0.26710793375968933, 0.10175540298223495, 0.12083454430103302, 0.1144748255610466, 0.3943021893501282, 0.9322853088378906, 0.6024886965751648, 0.06024887040257454, 0.24099548161029816, 0.06024887040257454, 0.020082956179976463, 0.8280421495437622, 0.7631173729896545, 0.16352514922618866, 0.07735266536474228, 0.07735266536474228, 0.7735266089439392, 0.8008896112442017, 0.9002771973609924, 0.05626732483506203, 0.05626732483506203, 0.05367188900709152, 0.24152350425720215, 0.05367188900709152, 0.5903908014297485, 0.05367188900709152, 0.5126181840896606, 0.20825114846229553, 0.059500329196453094, 0.13501997292041779, 0.08467354625463486, 0.18295161426067352, 0.04842836782336235, 0.010761859826743603, 0.6887590289115906, 0.0699520856142044, 0.2817426323890686, 0.16615590453147888, 0.256458044052124, 0.20588883757591248, 0.09030212461948395, 0.6956248879432678, 0.05796874314546585, 0.17970310151576996, 0.011593748815357685, 0.052171867340803146, 0.6335082650184631, 0.08541683852672577, 0.24201437830924988, 0.028472280129790306, 0.0071180700324475765, 0.16580428183078766, 0.03316085785627365, 0.03316085785627365, 0.03316085785627365, 0.7295388579368591, 0.8805316686630249, 0.8877397775650024, 0.8008418083190918, 0.7311161756515503, 0.10786959528923035, 0.01198551058769226, 0.07191306352615356, 0.08389857411384583, 0.13000379502773285, 0.7800227403640747, 0.9215003848075867, 0.824893593788147, 0.2460070699453354, 0.34768998622894287, 0.2591274380683899, 0.04920141398906708, 0.09840282797813416, 0.034102413803339005, 0.17051208019256592, 0.034102413803339005, 0.20461449027061462, 0.5797410607337952, 0.9438909292221069, 0.19583624601364136, 0.27199479937553406, 0.1523170918226242, 0.11242451518774033, 0.2683681845664978, 0.11628640443086624, 0.8140048384666443, 0.7680503726005554, 0.5503488183021545, 0.16613583266735077, 0.10579224675893784, 0.11534028500318527, 0.06263512372970581, 0.030718322843313217, 0.09215497225522995, 0.8293947577476501, 0.1786106377840042, 0.16629266738891602, 0.15397468209266663, 0.3572212755680084, 0.14165671169757843, 0.11106405407190323, 0.48946812748908997, 0.02948603220283985, 0.3059994876384735, 0.06421402096748352, 0.1871940940618515, 0.13836084306240082, 0.024416619911789894, 0.5697211623191833, 0.07324986159801483, 0.9512396454811096, 0.6360043287277222, 0.07373963296413422, 0.23043633997440338, 0.05991344898939133, 0.0046087270602583885, 0.8791347742080688, 0.9448515772819519, 0.0850575715303421, 0.6379318237304688, 0.21264393627643585, 0.04252878576517105, 0.11585117131471634, 0.028962792828679085, 0.7530326247215271, 0.11585117131471634, 0.1490664929151535, 0.45316216349601746, 0.05962659791111946, 0.053663939237594604, 0.2862076759338379, 0.0764254704117775, 0.19106367230415344, 0.11463820189237595, 0.61140376329422, 0.948325514793396, 0.1666739284992218, 0.20313385128974915, 0.17709104716777802, 0.21875952184200287, 0.23438520729541779, 0.554009199142456, 0.09972164779901505, 0.0664810985326767, 0.16620275378227234, 0.11080183833837509, 0.13706204295158386, 0.06230093166232109, 0.05607083812355995, 0.6915403604507446, 0.05607083812355995, 0.949976921081543, 0.8656354546546936, 0.04324905574321747, 0.20182892680168152, 0.47573959827423096, 0.04324905574321747, 0.21624527871608734, 0.18521223962306976, 0.18521223962306976, 0.2974620759487152, 0.06734990328550339, 0.26659339666366577, 0.3464924097061157, 0.27870041131973267, 0.13558398187160492, 0.08285687863826752, 0.15315969288349152, 0.917605996131897, 0.30773380398750305, 0.18167418241500854, 0.10381381213665009, 0.233581081032753, 0.17425890266895294, 0.9167921543121338, 0.16470883786678314, 0.1098058894276619, 0.7137383222579956, 0.8891288042068481, 0.08891288191080093, 0.8604825139045715, 0.19468840956687927, 0.6127561330795288, 0.06967795640230179, 0.09836888313293457, 0.024592220783233643, 0.8767892718315125, 0.9396756291389465, 0.1551145315170288, 0.842050313949585, 0.8301320672035217, 0.1436295062303543, 0.1162715032696724, 0.581357479095459, 0.06155550107359886, 0.08891350030899048, 0.8794975280761719, 0.14658291637897491, 0.27577242255210876, 0.07679738849401474, 0.18850268423557281, 0.06981580704450607, 0.39096853137016296, 0.16025708615779877, 0.2243599146604538, 0.22970181703567505, 0.1335475593805313, 0.2564113140106201, 0.409109503030777, 0.31552237272262573, 0.12300024181604385, 0.08155450969934464, 0.07085883617401123, 0.19000643491744995, 0.7600257396697998, 0.8306960463523865, 0.20944605767726898, 0.661213219165802, 0.04454042762517929, 0.07423404604196548, 0.010604863986372948, 0.7875701189041138, 0.16876502335071564, 0.8880413770675659, 0.17551128566265106, 0.3191114068031311, 0.03988892585039139, 0.1675335019826889, 0.29517805576324463, 0.12920336425304413, 0.5090612769126892, 0.19897319376468658, 0.06718575209379196, 0.09561049193143845, 0.9062753319740295, 0.5480715036392212, 0.13153715431690216, 0.09167741239070892, 0.13153715431690216, 0.09566338360309601, 0.04716230928897858, 0.04716230928897858, 0.8960838317871094, 0.04398297891020775, 0.04398297891020775, 0.8796595335006714, 0.9353018403053284, 0.8362314105033875, 0.16186054050922394, 0.8093026876449585, 0.06817147880792618, 0.8862291574478149, 0.8085717558860779, 0.05693084001541138, 0.15181557834148407, 0.502889096736908, 0.1613040566444397, 0.12335015833377838, 0.7739217281341553, 0.7686156630516052, 0.1464029848575592, 0.0732014924287796, 0.12609979510307312, 0.22575929760932922, 0.28067371249198914, 0.18508194386959076, 0.1830480843782425, 0.8513763546943665, 0.10532645136117935, 0.0991307720541954, 0.3345663547515869, 0.31597936153411865, 0.148696169257164, 0.8079939484596252, 0.2716180980205536, 0.2639668881893158, 0.37490949034690857, 0.07268653064966202, 0.015302428044378757, 0.08896496891975403, 0.8006847500801086, 0.9095175862312317, 0.9048300385475159, 0.09625209122896194, 0.8662688732147217, 0.024063022807240486, 0.06124194338917732, 0.888008177280426, 0.03062097169458866, 0.035518959164619446, 0.9353325366973877, 0.011839652433991432, 0.011839652433991432, 0.5082291960716248, 0.25684699416160583, 0.09836693853139877, 0.04371863976120949, 0.09290210902690887, 0.3827185332775116, 0.01866919733583927, 0.46672993898391724, 0.09334598481655121, 0.03733839467167854, 0.2663533687591553, 0.34403976798057556, 0.17201988399028778, 0.1442747414112091, 0.07213737070560455, 0.9182831048965454, 0.2458510547876358, 0.48531636595726013, 0.17241503298282623, 0.06385742127895355, 0.031928710639476776, 0.34760525822639465, 0.10127082467079163, 0.21622689068317413, 0.18064524233341217, 0.1532747596502304, 0.9096304178237915, 0.532471776008606, 0.1331179440021515, 0.14421111345291138, 0.09429188072681427, 0.09429188072681427, 0.6994768381118774, 0.12343708425760269, 0.12343708425760269, 0.04752620682120323, 0.04752620682120323, 0.09505241364240646, 0.04752620682120323, 0.7604193091392517, 0.8606020212173462, 0.21928635239601135, 0.10651051253080368, 0.07518389075994492, 0.5012259483337402, 0.10024518519639969, 0.7921477556228638, 0.18859578669071198, 0.25877097249031067, 0.15789414942264557, 0.263156920671463, 0.1315784603357315, 0.10958240926265717, 0.8766592741012573, 0.9445354342460632, 0.15084987878799438, 0.4641534686088562, 0.13924604654312134, 0.11603836715221405, 0.1276422142982483, 0.30310967564582825, 0.47324222326278687, 0.053451601415872574, 0.13297715783119202, 0.03650353103876114, 0.09017561376094818, 0.12706564366817474, 0.02869223989546299, 0.7418993711471558, 0.01639556512236595, 0.17169810831546783, 0.39929795265197754, 0.06788065284490585, 0.3194383382797241, 0.039929792284965515, 0.7681152820587158, 0.06880365312099457, 0.06880365312099457, 0.8256438374519348, 0.8607010841369629, 0.08269603550434113, 0.39575961232185364, 0.36819425225257874, 0.10238557308912277, 0.05316174030303955, 0.021117061376571655, 0.06335118412971497, 0.7390971779823303, 0.16893649101257324, 0.6876344680786133, 0.14886930584907532, 0.09924621134996414, 0.014178029261529446, 0.04962310567498207, 0.8953389525413513, 0.9189443588256836, 0.33714574575424194, 0.29735833406448364, 0.07748069614171982, 0.15914954245090485, 0.12773844599723816, 0.8439551591873169, 0.31343966722488403, 0.19796188175678253, 0.09073252975940704, 0.04949047043919563, 0.34849539399147034, 0.933103621006012, 0.7683512568473816, 0.234845831990242, 0.18065063655376434, 0.5419518947601318, 0.03613012656569481, 0.0990045964717865, 0.18386568129062653, 0.0990045964717865, 0.21215270459651947, 0.4101618826389313, 0.8166933059692383, 0.5675974488258362, 0.16663411259651184, 0.08331705629825592, 0.1301829069852829, 0.05728047713637352, 0.9501783847808838, 0.8616635799407959, 0.8985594511032104, 0.34771135449409485, 0.2593584656715393, 0.2223072648048401, 0.07695251703262329, 0.09405307471752167, 0.8707515001296997, 0.8589043617248535, 0.2624557316303253, 0.2624557316303253, 0.2141086310148239, 0.11050768196582794, 0.15540142357349396, 0.8080279231071472, 0.8653727173805237, 0.9434879422187805, 0.9059546589851379, 0.10587375611066818, 0.549220085144043, 0.033085547387599945, 0.13895930349826813, 0.17204485833644867, 0.7882099747657776, 0.18904316425323486, 0.06301438808441162, 0.7561726570129395, 0.9015836119651794, 0.12403073161840439, 0.8682150840759277, 0.11191334575414658, 0.05595667287707329, 0.8393501043319702, 0.3258248269557953, 0.1261257380247116, 0.04204191267490387, 0.43092960119247437, 0.07357334345579147, 0.10263438522815704, 0.8210750818252563, 0.10138097405433655, 0.03379365801811218, 0.03379365801811218, 0.8110477924346924, 0.03379365801811218, 0.2393963783979416, 0.2393963783979416, 0.13964788615703583, 0.019949698820710182, 0.3590945601463318, 0.9182799458503723, 0.8001729846000671, 0.9043107628822327, 0.8012181520462036, 0.4401046633720398, 0.16594110429286957, 0.15511885285377502, 0.05050381273031235, 0.18758559226989746, 0.059623245149850845, 0.8347254395484924, 0.059623245149850845, 0.9434759616851807, 0.9360365867614746, 0.904148280620575, 0.21378853917121887, 0.13604724407196045, 0.2591376006603241, 0.10365504771471024, 0.2915298044681549, 0.7955980896949768, 0.06629984080791473, 0.06629984080791473, 0.10811357200145721, 0.05405678600072861, 0.7027382254600525, 0.10811357200145721, 0.8619606494903564, 0.10118357837200165, 0.11242619156837463, 0.09556226432323456, 0.3485212028026581, 0.3372785747051239, 0.017543718218803406, 0.043859295547008514, 0.02631557732820511, 0.6929768919944763, 0.22806833684444427, 0.22906430065631866, 0.2596062123775482, 0.030541907995939255, 0.45812860131263733, 0.07782372087240219, 0.11673557758331299, 0.19455929100513458, 0.5836778879165649, 0.9536324739456177, 0.5667858719825745, 0.13980717957019806, 0.13602861762046814, 0.06045715883374214, 0.09824288636445999, 0.35944509506225586, 0.37022843956947327, 0.1042390763759613, 0.06470011919736862, 0.1042390763759613, 0.20225413143634796, 0.0224726814776659, 0.6966531276702881, 0.0224726814776659, 0.0449453629553318, 0.07458779960870743, 0.47845345735549927, 0.18192146718502045, 0.12188737839460373, 0.140079528093338, 0.23818916082382202, 0.6881020069122314, 0.07939638942480087, 0.1201997846364975, 0.6062250137329102, 0.04180862009525299, 0.099295474588871, 0.13587801158428192, 0.8772097826004028, 0.23911824822425842, 0.453919380903244, 0.12158554792404175, 0.08105703443288803, 0.10537414252758026, 0.857719898223877, 0.9359993934631348, 0.1802813857793808, 0.0360562801361084, 0.1802813857793808, 0.5769004821777344, 0.9386430382728577, 0.7901498079299927, 0.8768025636672974, 0.11647425591945648, 0.8153197765350342, 0.8003779649734497, 0.23034578561782837, 0.36122408509254456, 0.20547892153263092, 0.09946750104427338, 0.10339384526014328, 0.13457681238651276, 0.03425591439008713, 0.009787403978407383, 0.7756518125534058, 0.04649017006158829, 0.01697453483939171, 0.10184720903635025, 0.050923604518175125, 0.780828595161438, 0.03394906967878342, 0.9363437294960022, 0.6723908185958862, 0.10344474017620087, 0.20688948035240173, 0.00553607614710927, 0.8082671761512756, 0.027680382132530212, 0.07196899503469467, 0.08857721835374832, 0.8282228112220764, 0.10289806127548218, 0.8231844902038574, 0.05144903063774109, 0.09349556267261505, 0.27425363659858704, 0.3178848922252655, 0.04986429959535599, 0.2617875635623932, 0.4728650450706482, 0.1484576314687729, 0.09347332268953323, 0.16861854493618011, 0.11729985475540161, 0.7596259117126465, 0.052224282175302505, 0.061719607561826706, 0.056971944868564606, 0.07121492922306061, 0.6512957811355591, 0.06281271576881409, 0.06178300082683563, 0.17814098298549652, 0.0458223931491375, 0.04048535227775574, 0.04048535227775574, 0.8501924276351929, 0.04048535227775574, 0.05759132653474808, 0.26875951886177063, 0.15997591614723206, 0.4351344704627991, 0.07678844034671783, 0.018882645294070244, 0.07553058117628098, 0.8686017394065857, 0.03776529058814049, 0.7300946116447449, 0.21473371982574463, 0.24354691803455353, 0.31142064929008484, 0.37130922079086304, 0.0039925724267959595, 0.06787373125553131, 0.1146334782242775, 0.27095186710357666, 0.45853391289711, 0.09379102289676666, 0.06252735108137131, 0.19367724657058716, 0.15290307998657227, 0.132516011595726, 0.1732901632785797, 0.3465803265571594, 0.09018155932426453, 0.5688375234603882, 0.20117424428462982, 0.04855930060148239, 0.08324451744556427, 0.9194552898406982, 0.2803945541381836, 0.2102959156036377, 0.15772193670272827, 0.3388100862503052, 0.005841553211212158, 0.07547348737716675, 0.11321023106575012, 0.6792613863945007, 0.11321023106575012], \"Term\": [\"(2\", \"(as\", \"(energizers\", \"2\", \"2\", \"2\", \"2\", \"2\", \"3/4\", \"3x\", \"4\", \"4\", \"4\", \"4\", \"4\", \"4th\", \"8.5\", \"99cent\", \"a+\", \"a+\", \"aa\", \"aa\", \"aa\", \"aa\", \"aa\", \"aaa\", \"aaa\", \"aaa\", \"aaa\", \"aaa\", \"acdelco\", \"acdelco\", \"acdelco\", \"acid\", \"acid\", \"acid\", \"acid\", \"addition\", \"addition\", \"adequate.\", \"adv\", \"advertised.\", \"advertised.\", \"advertised.\", \"advertised.\", \"advertised.\", \"again!!\", \"again.\", \"again.\", \"again.\", \"again.\", \"again.\", \"again..\", \"amazing\", \"amazing\", \"amazing\", \"amazing\", \"amazing\", \"amazing.\", \"amazing.\", \"amazonbasics\", \"amazonbasics\", \"amazonbasics\", \"amazonbasics\", \"amazonbasics\", \"anymore\", \"anymore\", \"anything.\", \"applications.\", \"applications.\", \"around!\", \"arrive\", \"arrive\", \"arrive\", \"arrive\", \"arrive\", \"away\", \"away\", \"away\", \"away\", \"away\", \"bank.\", \"batterys\", \"beat\", \"beat\", \"beat\", \"beat\", \"beat\", \"big\", \"big\", \"big\", \"big\", \"big\", \"bose\", \"box\", \"box\", \"box\", \"box\", \"box\", \"box.\", \"box.\", \"box.\", \"box.\", \"box.\", \"brand\", \"brand\", \"brand\", \"brand\", \"brand\", \"brand.\", \"brand.\", \"brand.\", \"brand.\", \"brand.\", \"brands\", \"brands.\", \"brands.\", \"brands.\", \"brands.\", \"brands.\", \"brush\", \"buck.\", \"bulb\", \"buy\", \"buy\", \"buy\", \"buy\", \"buy\", \"buy!\", \"buy!\", \"buy!\", \"buy!\", \"buy!\", \"came\", \"came\", \"came\", \"came\", \"can't\", \"can't\", \"can't\", \"can't\", \"can't\", \"capacity\", \"capacity\", \"capacity\", \"capacity\", \"capacity\", \"cell\", \"cell\", \"cell\", \"cell\", \"cell,\", \"channel\", \"charge.\", \"charge.\", \"charge.\", \"charm\", \"cheap\", \"cheap\", \"cheap\", \"cheap\", \"cheap\", \"cheap!\", \"cheap!\", \"cheap!\", \"cheap-o\", \"cheap.\", \"cheap.\", \"cheap.\", \"cheap.\", \"cheap.\", \"cheaper.\", \"cheaper.\", \"cheaper.\", \"cheaper.\", \"cheaper.\", \"chocolate\", \"choice\", \"christmas\", \"christmas\", \"christmas\", \"christmas\", \"christmas\", \"circle\", \"click\", \"closet\", \"collection\", \"come\", \"come\", \"come\", \"come\", \"come\", \"compare\", \"compare\", \"compare\", \"compare\", \"compare\", \"container.\", \"controller\", \"controller\", \"controller\", \"controller\", \"controller\", \"coppertops\", \"coppertops\", \"cost\", \"cost\", \"cost\", \"cost\", \"cost\", \"cost.\", \"cost.\", \"cost.\", \"cost.\", \"costco\", \"costco\", \"costco\", \"costco\", \"costco\", \"crazy\", \"crazy\", \"crazy\", \"day\", \"day\", \"day\", \"day\", \"day\", \"dead,\", \"dead,\", \"deal\", \"deal\", \"deal\", \"deal\", \"deal\", \"deal!\", \"deal.\", \"deal.\", \"deal.\", \"deal.\", \"decent\", \"decent\", \"decent\", \"decent\", \"decent\", \"delivered\", \"depot\", \"describe\", \"describe\", \"describe\", \"device\", \"device\", \"device\", \"device\", \"device\", \"devices,\", \"devices,\", \"devices,\", \"didn't\", \"didn't\", \"didn't\", \"didn't\", \"didn't\", \"disappointing.\", \"disappointing.\", \"discharge\", \"discharge\", \"discharge\", \"discharge\", \"dish\", \"display\", \"doa,\", \"don't\", \"don't\", \"don't\", \"don't\", \"don't\", \"don't.\", \"drains\", \"duds.\", \"duracel.\", \"easy\", \"easy\", \"easy\", \"easy\", \"easy\", \"energenizer\", \"energy\", \"energy\", \"energy\", \"energy\", \"energy\", \"essentially\", \"everready\", \"everready\", \"excellent\", \"excellent\", \"excellent\", \"excellent\", \"excellent\", \"excellent!\", \"excellent,\", \"excellent.\", \"excellent.\", \"expect\", \"expect\", \"expect\", \"expect\", \"expect\", \"expected!\", \"expected.\", \"expected.\", \"expected.\", \"expected.\", \"expected.\", \"expensive!\", \"expensive.\", \"expensive.\", \"experience.\", \"experience.\", \"experience.\", \"expire\", \"fancy\", \"fancy\", \"fancy\", \"fantastic\", \"fantastic\", \"fantastic\", \"fantastic\", \"fantastic\", \"far\", \"far\", \"far\", \"far\", \"far\", \"fast\", \"fast\", \"fast\", \"fast\", \"fast\", \"find\", \"find\", \"find\", \"find\", \"find\", \"fine\", \"fine\", \"fine\", \"fine\", \"fine\", \"fine.\", \"fine.\", \"fine.\", \"fine.\", \"fine.\", \"fit\", \"fit\", \"fit\", \"fit\", \"fit\", \"flash.\", \"flashes,\", \"for...\", \"fraction\", \"fraction\", \"fraction\", \"fraction\", \"fraction\", \"free.\", \"free.\", \"fresh,\", \"fresh.\", \"get\", \"get\", \"get\", \"get\", \"get\", \"gift\", \"gift\", \"gift\", \"gift\", \"gift\", \"gig\", \"go\", \"go\", \"go\", \"go\", \"go\", \"go-to\", \"go-to\", \"goes.\", \"good\", \"good\", \"good\", \"good\", \"good\", \"good!\", \"good!\", \"good!\", \"good.\", \"good.\", \"good.\", \"good.\", \"good.\", \"great\", \"great\", \"great\", \"great\", \"great\", \"great!\", \"great!\", \"great!\", \"great!\", \"great!\", \"great!!\", \"great.\", \"great.\", \"great.\", \"great.\", \"great.\", \"gripe\", \"halloween\", \"handy\", \"handy\", \"handy\", \"handy\", \"happen\", \"happen\", \"happen\", \"happen\", \"happy\", \"happy\", \"happy\", \"happy\", \"happy\", \"help\", \"help\", \"help\", \"help\", \"hey\", \"high\", \"high\", \"high\", \"high\", \"high\", \"highly\", \"highly\", \"highly\", \"highly\", \"highly\", \"hold\", \"hold\", \"hold\", \"hold\", \"hold\", \"home,\", \"hunt\", \"i'd\", \"i'd\", \"i'd\", \"i'd\", \"i'd\", \"i'm\", \"i'm\", \"i'm\", \"i'm\", \"i'm\", \"i've\", \"i've\", \"i've\", \"i've\", \"i've\", \"interesting:\", \"it's\", \"it's\", \"it's\", \"it's\", \"it's\", \"joy.\", \"juice\", \"juice\", \"juice\", \"kid's\", \"kid's\", \"kodak\", \"last\", \"last\", \"last\", \"last\", \"last\", \"lasting!\", \"lasting,\", \"lasts\", \"lasts\", \"later)\", \"leak\", \"leak\", \"leak\", \"leak\", \"leak\", \"lesser\", \"lesser\", \"life\", \"life\", \"life\", \"life\", \"life\", \"light\", \"light\", \"light\", \"light\", \"light\", \"like\", \"like\", \"like\", \"like\", \"like\", \"link\", \"link\", \"liquid\", \"long\", \"long\", \"long\", \"long\", \"long\", \"long!\", \"long!\", \"long-lasting.\", \"long.\", \"long.\", \"long.\", \"long.\", \"long.\", \"lot\", \"lot\", \"lot\", \"lot\", \"lot\", \"lot,\", \"love\", \"love\", \"love\", \"love\", \"love\", \"ma\", \"ma\", \"ma\", \"mah\", \"mah\", \"mah\", \"makes\", \"me...\", \"meet\", \"meet\", \"mess\", \"mess\", \"mirror.\", \"mouse\", \"mouse\", \"mouse\", \"mouse\", \"mouse\", \"music\", \"name.\", \"name.\", \"name.\", \"need\", \"need\", \"need\", \"need\", \"need\", \"nest\", \"new\", \"new\", \"new\", \"new\", \"new\", \"news\", \"nice\", \"nice\", \"nice\", \"nice\", \"nice\", \"nice!\", \"nice!\", \"notch\", \"note,\", \"ok\", \"ok\", \"ok\", \"ok.\", \"ok.\", \"ok.\", \"okay\", \"okay\", \"okay\", \"okay\", \"one\", \"one\", \"one\", \"one\", \"one\", \"open\", \"open\", \"open\", \"open\", \"open\", \"order\", \"order\", \"order\", \"order\", \"order\", \"pacific\", \"pack\", \"pack\", \"pack\", \"pack\", \"pack\", \"package\", \"package\", \"package\", \"package\", \"package\", \"packaged,\", \"pay\", \"pay\", \"pay\", \"pay\", \"pay\", \"perfect!\", \"perfect!\", \"perfect!\", \"perfect.\", \"perfect.\", \"perfect.\", \"perfect.\", \"perfect.\", \"perfectly!\", \"performance\", \"performance\", \"performance\", \"performance\", \"performance\", \"pleased!\", \"power\", \"power\", \"power\", \"power\", \"power\", \"power!\", \"power!\", \"prepare\", \"pretty\", \"pretty\", \"pretty\", \"pretty\", \"pretty\", \"price\", \"price\", \"price\", \"price\", \"price\", \"price!\", \"price!\", \"price!\", \"price!\", \"price!\", \"price,\", \"price,\", \"price,\", \"price,\", \"price,\", \"priced,\", \"pro\", \"pro\", \"pro\", \"process.\", \"product\", \"product\", \"product\", \"product\", \"product\", \"product!\", \"product!\", \"product!\", \"product!\", \"product.\", \"product.\", \"product.\", \"product.\", \"product.\", \"prompt\", \"puddle\", \"purchase\", \"purchase\", \"purchase\", \"purchase\", \"purchase\", \"purposes.\", \"quality\", \"quality\", \"quality\", \"quality\", \"quality\", \"quick.\", \"rayovacs,\", \"reason\", \"reason\", \"reason\", \"reason\", \"reasonable\", \"reasonable\", \"reasonable\", \"reasonable\", \"reasonable\", \"received\", \"recommend\", \"recommend\", \"recommend\", \"recommend\", \"recommend\", \"recycling.\", \"regularly.\", \"relatively\", \"remote\", \"remote\", \"remote\", \"remote\", \"remote\", \"rip\", \"rt\", \"run\", \"run\", \"run\", \"run\", \"run\", \"runtime\", \"said.\", \"sanity.\", \"satisfied\", \"save\", \"save\", \"save\", \"save\", \"save\", \"say!\", \"scale\", \"scale\", \"scale\", \"screw\", \"seller.\", \"seller.\", \"sense\", \"sense\", \"sense\", \"ship\", \"ship\", \"ship\", \"ship\", \"ship\", \"shipping!\", \"shipping!\", \"shipping.\", \"shipping.\", \"shipping.\", \"shipping.\", \"shipping.\", \"short\", \"short\", \"short\", \"short\", \"short\", \"shortest\", \"should,\", \"sign.\", \"so...\", \"store\", \"store\", \"store\", \"store\", \"store\", \"string\", \"string\", \"string\", \"subscription.\", \"suit\", \"suitable\", \"sure\", \"sure\", \"sure\", \"sure\", \"sure\", \"tend\", \"tend\", \"tend\", \"terrible\", \"terrible\", \"terrible\", \"terrible\", \"terrific\", \"test\", \"test\", \"test\", \"test\", \"test\", \"thank\", \"thank\", \"thank\", \"thank\", \"thank\", \"thanks\", \"thanks\", \"thanks\", \"thanks\", \"these!\", \"these!\", \"these!\", \"these!\", \"theses\", \"they're\", \"they're\", \"they're\", \"they're\", \"they're\", \"think\", \"think\", \"think\", \"think\", \"think\", \"throw\", \"throw\", \"throw\", \"throw\", \"throw\", \"time\", \"time\", \"time\", \"time\", \"time\", \"time!\", \"time!\", \"time!\", \"time.\", \"time.\", \"time.\", \"time.\", \"time.\", \"toddlers.\", \"toy\", \"toy\", \"toy\", \"toy\", \"toy\", \"toys\", \"toys!\", \"trail\", \"trail\", \"trail\", \"trail\", \"truck\", \"tv.\", \"twin\", \"u\", \"u\", \"unbelievable\", \"use\", \"use\", \"use\", \"use\", \"use\", \"value\", \"value\", \"value\", \"value\", \"value\", \"value!\", \"value!\", \"value!\", \"value!\", \"value!\", \"value!!!\", \"value,\", \"value,\", \"value,\", \"value.\", \"value.\", \"value.\", \"value.\", \"value.\", \"walk\", \"weather\", \"weather\", \"weather\", \"week\", \"week\", \"week\", \"week\", \"week\", \"well\", \"well\", \"well\", \"well\", \"well\", \"well.\", \"well.\", \"well.\", \"well.\", \"well.\", \"work\", \"work\", \"work\", \"work\", \"work\", \"work!\", \"work!\", \"work!\", \"work!\", \"work.\", \"work.\", \"work.\", \"work.\", \"work.\", \"worked\", \"worked\", \"worked\", \"worked\", \"working.\", \"working.\", \"works\", \"works\", \"works\", \"works\", \"works\", \"wrap\", \"wrap\", \"wrap\", \"wrap\", \"wrap\", \"wrong\", \"wrong\", \"wrong\", \"wrong\", \"wrong\", \"xbox\", \"xbox\", \"xbox\", \"xbox\", \"xbox\", \"yay\", \"year\", \"year\", \"year\", \"year\", \"year\", \"you.\", \"you.\", \"you.\", \"you.\"]}, \"R\": 30, \"lambda.step\": 0.01, \"plot.opts\": {\"xlab\": \"PC1\", \"ylab\": \"PC2\"}, \"topic.order\": [4, 3, 1, 2, 5]};\n",
       "\n",
       "function LDAvis_load_lib(url, callback){\n",
       "  var s = document.createElement('script');\n",
       "  s.src = url;\n",
       "  s.async = true;\n",
       "  s.onreadystatechange = s.onload = callback;\n",
       "  s.onerror = function(){console.warn(\"failed to load library \" + url);};\n",
       "  document.getElementsByTagName(\"head\")[0].appendChild(s);\n",
       "}\n",
       "\n",
       "if(typeof(LDAvis) !== \"undefined\"){\n",
       "   // already loaded: just create the visualization\n",
       "   !function(LDAvis){\n",
       "       new LDAvis(\"#\" + \"ldavis_el547227892708103205793698173\", ldavis_el547227892708103205793698173_data);\n",
       "   }(LDAvis);\n",
       "}else if(typeof define === \"function\" && define.amd){\n",
       "   // require.js is available: use it to load d3/LDAvis\n",
       "   require.config({paths: {d3: \"https://cdnjs.cloudflare.com/ajax/libs/d3/3.5.5/d3.min\"}});\n",
       "   require([\"d3\"], function(d3){\n",
       "      window.d3 = d3;\n",
       "      LDAvis_load_lib(\"https://cdn.rawgit.com/bmabey/pyLDAvis/files/ldavis.v1.0.0.js\", function(){\n",
       "        new LDAvis(\"#\" + \"ldavis_el547227892708103205793698173\", ldavis_el547227892708103205793698173_data);\n",
       "      });\n",
       "    });\n",
       "}else{\n",
       "    // require.js not available: dynamically load d3 & LDAvis\n",
       "    LDAvis_load_lib(\"https://cdnjs.cloudflare.com/ajax/libs/d3/3.5.5/d3.min.js\", function(){\n",
       "         LDAvis_load_lib(\"https://cdn.rawgit.com/bmabey/pyLDAvis/files/ldavis.v1.0.0.js\", function(){\n",
       "                 new LDAvis(\"#\" + \"ldavis_el547227892708103205793698173\", ldavis_el547227892708103205793698173_data);\n",
       "            })\n",
       "         });\n",
       "}\n",
       "</script>"
      ],
      "text/plain": [
       "PreparedData(topic_coordinates=              x         y  topics  cluster       Freq\n",
       "topic                                                \n",
       "3      0.019549 -0.057671       1        1  26.398584\n",
       "2      0.038820 -0.057405       2        1  26.353333\n",
       "0     -0.085688 -0.029555       3        1  17.820724\n",
       "1      0.097711  0.065461       4        1  15.964129\n",
       "4     -0.070392  0.079169       5        1  13.463226, topic_info=      Term         Freq        Total Category  logprob  loglift\n",
       "70   great  3052.000000  3052.000000  Default  30.0000  30.0000\n",
       "20    work  1942.000000  1942.000000  Default  29.0000  29.0000\n",
       "23    long  1885.000000  1885.000000  Default  28.0000  28.0000\n",
       "585  value   408.000000   408.000000  Default  27.0000  27.0000\n",
       "61    good  2618.000000  2618.000000  Default  26.0000  26.0000\n",
       "..     ...          ...          ...      ...      ...      ...\n",
       "18   brand    67.972755  1308.809326   Topic5  -5.2930  -0.9526\n",
       "484   it's    47.080608   269.713623   Topic5  -5.6602   0.2597\n",
       "13    like    53.371273   747.966003   Topic5  -5.5348  -0.6349\n",
       "17   price    56.366859  1534.098145   Topic5  -5.4802  -1.2986\n",
       "98    love    48.003929   501.759369   Topic5  -5.6408  -0.3416\n",
       "\n",
       "[426 rows x 6 columns], token_table=      Topic      Freq         Term\n",
       "term                              \n",
       "6120      5  0.808122           (2\n",
       "4575      2  0.875862          (as\n",
       "2954      4  0.800949  (energizers\n",
       "161       1  0.163791            2\n",
       "161       2  0.232354            2\n",
       "...     ...       ...          ...\n",
       "113       5  0.005842         year\n",
       "349       1  0.075473         you.\n",
       "349       2  0.113210         you.\n",
       "349       4  0.679261         you.\n",
       "349       5  0.113210         you.\n",
       "\n",
       "[957 rows x 3 columns], R=30, lambda_step=0.01, plot_opts={'xlab': 'PC1', 'ylab': 'PC2'}, topic_order=[4, 3, 1, 2, 5])"
      ]
     },
     "execution_count": 66,
     "metadata": {},
     "output_type": "execute_result"
    }
   ],
   "source": [
    "import pyLDAvis.gensim\n",
    "\n",
    "pyLDAvis.enable_notebook()\n",
    "\n",
    "pyLDAvis.gensim.prepare(lda_model, corpus, id2word)"
   ]
  },
  {
   "cell_type": "markdown",
   "metadata": {},
   "source": [
    "# Visualization"
   ]
  },
  {
   "cell_type": "code",
   "execution_count": 67,
   "metadata": {},
   "outputs": [
    {
     "data": {
      "text/html": [
       "<div>\n",
       "<style scoped>\n",
       "    .dataframe tbody tr th:only-of-type {\n",
       "        vertical-align: middle;\n",
       "    }\n",
       "\n",
       "    .dataframe tbody tr th {\n",
       "        vertical-align: top;\n",
       "    }\n",
       "\n",
       "    .dataframe thead th {\n",
       "        text-align: right;\n",
       "    }\n",
       "</style>\n",
       "<table border=\"1\" class=\"dataframe\">\n",
       "  <thead>\n",
       "    <tr style=\"text-align: right;\">\n",
       "      <th></th>\n",
       "      <th>0</th>\n",
       "      <th>1</th>\n",
       "      <th>2</th>\n",
       "      <th>3</th>\n",
       "      <th>4</th>\n",
       "    </tr>\n",
       "  </thead>\n",
       "  <tbody>\n",
       "    <tr>\n",
       "      <th>0</th>\n",
       "      <td>0.439194</td>\n",
       "      <td>0.017457</td>\n",
       "      <td>0.335514</td>\n",
       "      <td>0.092318</td>\n",
       "      <td>0.115517</td>\n",
       "    </tr>\n",
       "    <tr>\n",
       "      <th>1</th>\n",
       "      <td>0.034398</td>\n",
       "      <td>0.034097</td>\n",
       "      <td>0.863531</td>\n",
       "      <td>0.034174</td>\n",
       "      <td>0.033799</td>\n",
       "    </tr>\n",
       "    <tr>\n",
       "      <th>2</th>\n",
       "      <td>0.068828</td>\n",
       "      <td>0.067164</td>\n",
       "      <td>0.728426</td>\n",
       "      <td>0.068745</td>\n",
       "      <td>0.066837</td>\n",
       "    </tr>\n",
       "    <tr>\n",
       "      <th>3</th>\n",
       "      <td>0.040255</td>\n",
       "      <td>0.040591</td>\n",
       "      <td>0.040738</td>\n",
       "      <td>0.838122</td>\n",
       "      <td>0.040295</td>\n",
       "    </tr>\n",
       "    <tr>\n",
       "      <th>4</th>\n",
       "      <td>0.040673</td>\n",
       "      <td>0.040469</td>\n",
       "      <td>0.617287</td>\n",
       "      <td>0.261475</td>\n",
       "      <td>0.040096</td>\n",
       "    </tr>\n",
       "  </tbody>\n",
       "</table>\n",
       "</div>"
      ],
      "text/plain": [
       "          0         1         2         3         4\n",
       "0  0.439194  0.017457  0.335514  0.092318  0.115517\n",
       "1  0.034398  0.034097  0.863531  0.034174  0.033799\n",
       "2  0.068828  0.067164  0.728426  0.068745  0.066837\n",
       "3  0.040255  0.040591  0.040738  0.838122  0.040295\n",
       "4  0.040673  0.040469  0.617287  0.261475  0.040096"
      ]
     },
     "execution_count": 67,
     "metadata": {},
     "output_type": "execute_result"
    }
   ],
   "source": [
    "topics = pd.DataFrame.from_records(new_distro)\n",
    "topics.head()"
   ]
  },
  {
   "cell_type": "code",
   "execution_count": 68,
   "metadata": {},
   "outputs": [
    {
     "data": {
      "text/html": [
       "<div>\n",
       "<style scoped>\n",
       "    .dataframe tbody tr th:only-of-type {\n",
       "        vertical-align: middle;\n",
       "    }\n",
       "\n",
       "    .dataframe tbody tr th {\n",
       "        vertical-align: top;\n",
       "    }\n",
       "\n",
       "    .dataframe thead th {\n",
       "        text-align: right;\n",
       "    }\n",
       "</style>\n",
       "<table border=\"1\" class=\"dataframe\">\n",
       "  <thead>\n",
       "    <tr style=\"text-align: right;\">\n",
       "      <th></th>\n",
       "      <th>reviews.rating</th>\n",
       "    </tr>\n",
       "    <tr>\n",
       "      <th>primaryTopic</th>\n",
       "      <th></th>\n",
       "    </tr>\n",
       "  </thead>\n",
       "  <tbody>\n",
       "    <tr>\n",
       "      <th>0.0</th>\n",
       "      <td>4.080054</td>\n",
       "    </tr>\n",
       "    <tr>\n",
       "      <th>1.0</th>\n",
       "      <td>4.609746</td>\n",
       "    </tr>\n",
       "    <tr>\n",
       "      <th>2.0</th>\n",
       "      <td>4.471530</td>\n",
       "    </tr>\n",
       "    <tr>\n",
       "      <th>3.0</th>\n",
       "      <td>4.534852</td>\n",
       "    </tr>\n",
       "    <tr>\n",
       "      <th>4.0</th>\n",
       "      <td>4.271144</td>\n",
       "    </tr>\n",
       "  </tbody>\n",
       "</table>\n",
       "</div>"
      ],
      "text/plain": [
       "              reviews.rating\n",
       "primaryTopic                \n",
       "0.0                 4.080054\n",
       "1.0                 4.609746\n",
       "2.0                 4.471530\n",
       "3.0                 4.534852\n",
       "4.0                 4.271144"
      ]
     },
     "execution_count": 68,
     "metadata": {},
     "output_type": "execute_result"
    }
   ],
   "source": [
    "df['primaryTopic'] = topics.idxmax(axis=1)\n",
    "df[['primaryTopic', 'reviews.rating']].groupby('primaryTopic').mean()"
   ]
  },
  {
   "cell_type": "code",
   "execution_count": 69,
   "metadata": {},
   "outputs": [
    {
     "data": {
      "image/png": "[encoded data removed]",
      "text/plain": [
       "<Figure size 432x288 with 1 Axes>"
      ]
     },
     "metadata": {
      "needs_background": "light"
     },
     "output_type": "display_data"
    }
   ],
   "source": [
    "import seaborn as sns\n",
    "\n",
    "ax = sns.boxplot(x=\"primaryTopic\", y=\"reviews.rating\",\n",
    "                 data=df)"
   ]
  },
  {
   "cell_type": "markdown",
   "metadata": {},
   "source": [
    "## Stretch Goals\n",
    "\n",
    "* Incorporate Named Entity Recognition in your analysis\n",
    "* Incorporate some custom pre-processing from our previous lessons (like spacy lemmatization)\n",
    "* Analyze a dataset of interest to you with topic modeling"
   ]
  },
  {
   "cell_type": "code",
   "execution_count": 91,
   "metadata": {},
   "outputs": [],
   "source": [
    "text = \"The National Park Service (NPS) has announced the temporary closure of Gateway Arch National Park, which includes the Gateway Arch and Old Courthouse, beginning Wednesday, March 18 until further notice due to the evolving COVID-19 health situation. The health and safety of visitors, employees, volunteers, and partners is the park’s number one priority. NPS is working with federal, state, and local authorities to closely monitor this rapidly changing situation. When appropriate, Gateway Arch National Park will notify the public when it resumes full operations via traditional media, as well as online at nps.gov/jeff and gatewayarch.com and on social media (@GatewayArchNPS).\"\n",
    "\n",
    "doc = nlp(text)"
   ]
  },
  {
   "cell_type": "code",
   "execution_count": 92,
   "metadata": {},
   "outputs": [
    {
     "name": "stdout",
     "output_type": "stream",
     "text": [
      "The National Park Service ORG\n",
      "NPS ORG\n",
      "Gateway Arch National Park FAC\n",
      "the Gateway Arch and Old Courthouse FAC\n",
      "Wednesday, March 18 DATE\n",
      "number one CARDINAL\n",
      "NPS ORG\n",
      "Gateway Arch National Park FAC\n",
      "@GatewayArchNPS ORG\n"
     ]
    }
   ],
   "source": [
    "# Iterate over the entities\n",
    "for ent in doc.ents:\n",
    "    # Print the entity text and label\n",
    "    print(ent.text, ent.label_)"
   ]
  },
  {
   "cell_type": "code",
   "execution_count": 93,
   "metadata": {},
   "outputs": [
    {
     "name": "stdout",
     "output_type": "stream",
     "text": [
      "ORG: Companies, agencies, institutions, etc.\n",
      "FAC: Buildings, airports, highways, bridges, etc.\n",
      "DATE: Absolute or relative dates or periods\n",
      "CARDINAL: Numerals that do not fall under another type\n"
     ]
    }
   ],
   "source": [
    "print(\"ORG:\", spacy.explain(\"ORG\"))\n",
    "print(\"FAC:\",spacy.explain(\"FAC\"))\n",
    "print(\"DATE:\",spacy.explain(\"DATE\"))\n",
    "print(\"CARDINAL:\",spacy.explain(\"CARDINAL\"))"
   ]
  },
  {
   "cell_type": "code",
   "execution_count": null,
   "metadata": {},
   "outputs": [],
   "source": []
  }
 ],
 "metadata": {
  "kernelspec": {
   "display_name": "U4-S1-NLP (Python3)",
   "language": "python",
   "name": "u4-s1-nlp"
  },
  "language_info": {
   "codemirror_mode": {
    "name": "ipython",
    "version": 3
   },
   "file_extension": ".py",
   "mimetype": "text/x-python",
   "name": "python",
   "nbconvert_exporter": "python",
   "pygments_lexer": "ipython3",
   "version": "3.7.0"
  }
 },
 "nbformat": 4,
 "nbformat_minor": 4
}
